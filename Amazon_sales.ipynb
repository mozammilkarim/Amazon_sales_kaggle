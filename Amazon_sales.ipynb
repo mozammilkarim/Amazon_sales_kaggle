{
  "nbformat": 4,
  "nbformat_minor": 0,
  "metadata": {
    "colab": {
      "provenance": []
    },
    "kernelspec": {
      "name": "python3",
      "display_name": "Python 3"
    },
    "language_info": {
      "name": "python"
    }
  },
  "cells": [
    {
      "cell_type": "markdown",
      "source": [
        "# About Dataset"
      ],
      "metadata": {
        "id": "xdIuHYQidLnI"
      }
    },
    {
      "cell_type": "markdown",
      "source": [
        "## 📔Author : Syed Muzamil Karim\n",
        " [![GitHub](https://img.shields.io/badge/GitHub-Profile-blue?style=flat&logo=github)](https://github.com/mozammilkarim)\\\n",
        " [![Kaggle](https://img.shields.io/badge/Kaggle-Profile-blue?style=flat&logo=kaggle)](https://www.kaggle.com/muzammlkarim)\\\n",
        " [![LinkedIn](https://img.shields.io/badge/LinkedIn-Profile-blue?style=flat&logo=linkedin)](https://www.linkedin.com/in/mozammilkarim/)\n",
        "\n",
        "## Metadata 📄\n",
        "    Google PlayStore Android App Data. (2.3 Million+ App Data)\n",
        "Dataset link : <https://www.kaggle.com/datasets/gauthamp10/google-playstore-apps>\n",
        "\n",
        "    The dataset contains Application data of more than 600K applications with the following 23 attributes.-\n",
        "\n",
        "+ App Name : Name of the application\n",
        "\n",
        "+ App Id: Unique Application Id\n",
        "\n",
        "+ Category: Category of application to which it belongs\n",
        "\n",
        "+ Rating : Average rating  given to the application by a user\n",
        "\n",
        "+ Rating count : Number of rating for the application\n",
        "\n",
        "+ Installs :Approximate install count\n",
        "\n",
        "+ Minimum Installs :Approximate minimum app install count\n",
        "\n",
        "+ Maximum Installs : Approximate maximum app install count\n",
        "\n",
        "+ Free : Whether app is Free or Paid\n",
        "\n",
        "+ Price: App price\n",
        "\n",
        "+ Currency\n",
        "\n",
        "+ Size\n",
        "\n",
        "+ Minimum\n",
        " Android\n",
        "+ Developer\n",
        " Id\n",
        "+ Developer\n",
        " Website\n",
        "+ Developer\n",
        " Email\n",
        "+ Released\n",
        "\n",
        "+ Privacy\n",
        " Policy\n",
        "+ Last\n",
        " Updated\n",
        "+ Content\n",
        " Rating\n",
        "+ Ad\n",
        " Supported\n",
        "+ In\n",
        " app purchases\n",
        "+ Editor\n",
        " Choice\n",
        "\n",
        "## Aim/Objectives\n",
        "We intend to conduct an Exploratory Data Analysis (EDA) on the given dataset. The EDA will serve as the basis for the necessary Data Wrangling activities to be carried out for the purposes of data cleaning and normalization. During the Wrangling process, we will document our observations. Ultimately, we will produce a summary and draw insights from our findings."
      ],
      "metadata": {
        "id": "AozmqzixdOow"
      }
    },
    {
      "cell_type": "markdown",
      "source": [
        "# Importing all libraries"
      ],
      "metadata": {
        "id": "ultfHTD8dV4Q"
      }
    },
    {
      "cell_type": "code",
      "execution_count": 423,
      "metadata": {
        "id": "JVTjm0nkL3ul"
      },
      "outputs": [],
      "source": [
        "# load dataset from kaggle url\n",
        "import numpy as np\n",
        "import pandas as pd\n",
        "import matplotlib.pyplot as plt\n",
        "import seaborn as sns\n",
        "# !ls"
      ]
    },
    {
      "cell_type": "code",
      "source": [
        "df=pd.read_csv(\"Amazon-Products.csv\")"
      ],
      "metadata": {
        "id": "bl8Ge154ORiA"
      },
      "execution_count": 424,
      "outputs": []
    },
    {
      "cell_type": "code",
      "source": [
        "df.columns"
      ],
      "metadata": {
        "colab": {
          "base_uri": "https://localhost:8080/"
        },
        "id": "tUPUgADYQv_s",
        "outputId": "95772076-84f9-4bbd-b782-c853a42adede"
      },
      "execution_count": 425,
      "outputs": [
        {
          "output_type": "execute_result",
          "data": {
            "text/plain": [
              "Index(['Unnamed: 0', 'name', 'main_category', 'sub_category', 'image', 'link',\n",
              "       'ratings', 'no_of_ratings', 'discount_price', 'actual_price'],\n",
              "      dtype='object')"
            ]
          },
          "metadata": {},
          "execution_count": 425
        }
      ]
    },
    {
      "cell_type": "code",
      "source": [
        "df.describe()"
      ],
      "metadata": {
        "colab": {
          "base_uri": "https://localhost:8080/",
          "height": 300
        },
        "id": "vPzK461XQRCV",
        "outputId": "05f157f9-5822-43a1-a84c-20b96190052b"
      },
      "execution_count": 426,
      "outputs": [
        {
          "output_type": "execute_result",
          "data": {
            "text/plain": [
              "          Unnamed: 0\n",
              "count  551585.000000\n",
              "mean     7006.200471\n",
              "std      5740.835523\n",
              "min         0.000000\n",
              "25%      1550.000000\n",
              "50%      5933.000000\n",
              "75%     11482.000000\n",
              "max     19199.000000"
            ],
            "text/html": [
              "\n",
              "  <div id=\"df-2ece862b-29d1-41d4-ab18-a3666190d43b\" class=\"colab-df-container\">\n",
              "    <div>\n",
              "<style scoped>\n",
              "    .dataframe tbody tr th:only-of-type {\n",
              "        vertical-align: middle;\n",
              "    }\n",
              "\n",
              "    .dataframe tbody tr th {\n",
              "        vertical-align: top;\n",
              "    }\n",
              "\n",
              "    .dataframe thead th {\n",
              "        text-align: right;\n",
              "    }\n",
              "</style>\n",
              "<table border=\"1\" class=\"dataframe\">\n",
              "  <thead>\n",
              "    <tr style=\"text-align: right;\">\n",
              "      <th></th>\n",
              "      <th>Unnamed: 0</th>\n",
              "    </tr>\n",
              "  </thead>\n",
              "  <tbody>\n",
              "    <tr>\n",
              "      <th>count</th>\n",
              "      <td>551585.000000</td>\n",
              "    </tr>\n",
              "    <tr>\n",
              "      <th>mean</th>\n",
              "      <td>7006.200471</td>\n",
              "    </tr>\n",
              "    <tr>\n",
              "      <th>std</th>\n",
              "      <td>5740.835523</td>\n",
              "    </tr>\n",
              "    <tr>\n",
              "      <th>min</th>\n",
              "      <td>0.000000</td>\n",
              "    </tr>\n",
              "    <tr>\n",
              "      <th>25%</th>\n",
              "      <td>1550.000000</td>\n",
              "    </tr>\n",
              "    <tr>\n",
              "      <th>50%</th>\n",
              "      <td>5933.000000</td>\n",
              "    </tr>\n",
              "    <tr>\n",
              "      <th>75%</th>\n",
              "      <td>11482.000000</td>\n",
              "    </tr>\n",
              "    <tr>\n",
              "      <th>max</th>\n",
              "      <td>19199.000000</td>\n",
              "    </tr>\n",
              "  </tbody>\n",
              "</table>\n",
              "</div>\n",
              "    <div class=\"colab-df-buttons\">\n",
              "\n",
              "  <div class=\"colab-df-container\">\n",
              "    <button class=\"colab-df-convert\" onclick=\"convertToInteractive('df-2ece862b-29d1-41d4-ab18-a3666190d43b')\"\n",
              "            title=\"Convert this dataframe to an interactive table.\"\n",
              "            style=\"display:none;\">\n",
              "\n",
              "  <svg xmlns=\"http://www.w3.org/2000/svg\" height=\"24px\" viewBox=\"0 -960 960 960\">\n",
              "    <path d=\"M120-120v-720h720v720H120Zm60-500h600v-160H180v160Zm220 220h160v-160H400v160Zm0 220h160v-160H400v160ZM180-400h160v-160H180v160Zm440 0h160v-160H620v160ZM180-180h160v-160H180v160Zm440 0h160v-160H620v160Z\"/>\n",
              "  </svg>\n",
              "    </button>\n",
              "\n",
              "  <style>\n",
              "    .colab-df-container {\n",
              "      display:flex;\n",
              "      gap: 12px;\n",
              "    }\n",
              "\n",
              "    .colab-df-convert {\n",
              "      background-color: #E8F0FE;\n",
              "      border: none;\n",
              "      border-radius: 50%;\n",
              "      cursor: pointer;\n",
              "      display: none;\n",
              "      fill: #1967D2;\n",
              "      height: 32px;\n",
              "      padding: 0 0 0 0;\n",
              "      width: 32px;\n",
              "    }\n",
              "\n",
              "    .colab-df-convert:hover {\n",
              "      background-color: #E2EBFA;\n",
              "      box-shadow: 0px 1px 2px rgba(60, 64, 67, 0.3), 0px 1px 3px 1px rgba(60, 64, 67, 0.15);\n",
              "      fill: #174EA6;\n",
              "    }\n",
              "\n",
              "    .colab-df-buttons div {\n",
              "      margin-bottom: 4px;\n",
              "    }\n",
              "\n",
              "    [theme=dark] .colab-df-convert {\n",
              "      background-color: #3B4455;\n",
              "      fill: #D2E3FC;\n",
              "    }\n",
              "\n",
              "    [theme=dark] .colab-df-convert:hover {\n",
              "      background-color: #434B5C;\n",
              "      box-shadow: 0px 1px 3px 1px rgba(0, 0, 0, 0.15);\n",
              "      filter: drop-shadow(0px 1px 2px rgba(0, 0, 0, 0.3));\n",
              "      fill: #FFFFFF;\n",
              "    }\n",
              "  </style>\n",
              "\n",
              "    <script>\n",
              "      const buttonEl =\n",
              "        document.querySelector('#df-2ece862b-29d1-41d4-ab18-a3666190d43b button.colab-df-convert');\n",
              "      buttonEl.style.display =\n",
              "        google.colab.kernel.accessAllowed ? 'block' : 'none';\n",
              "\n",
              "      async function convertToInteractive(key) {\n",
              "        const element = document.querySelector('#df-2ece862b-29d1-41d4-ab18-a3666190d43b');\n",
              "        const dataTable =\n",
              "          await google.colab.kernel.invokeFunction('convertToInteractive',\n",
              "                                                    [key], {});\n",
              "        if (!dataTable) return;\n",
              "\n",
              "        const docLinkHtml = 'Like what you see? Visit the ' +\n",
              "          '<a target=\"_blank\" href=https://colab.research.google.com/notebooks/data_table.ipynb>data table notebook</a>'\n",
              "          + ' to learn more about interactive tables.';\n",
              "        element.innerHTML = '';\n",
              "        dataTable['output_type'] = 'display_data';\n",
              "        await google.colab.output.renderOutput(dataTable, element);\n",
              "        const docLink = document.createElement('div');\n",
              "        docLink.innerHTML = docLinkHtml;\n",
              "        element.appendChild(docLink);\n",
              "      }\n",
              "    </script>\n",
              "  </div>\n",
              "\n",
              "\n",
              "<div id=\"df-b45bbb07-c502-4bcf-a70f-64543b96a563\">\n",
              "  <button class=\"colab-df-quickchart\" onclick=\"quickchart('df-b45bbb07-c502-4bcf-a70f-64543b96a563')\"\n",
              "            title=\"Suggest charts\"\n",
              "            style=\"display:none;\">\n",
              "\n",
              "<svg xmlns=\"http://www.w3.org/2000/svg\" height=\"24px\"viewBox=\"0 0 24 24\"\n",
              "     width=\"24px\">\n",
              "    <g>\n",
              "        <path d=\"M19 3H5c-1.1 0-2 .9-2 2v14c0 1.1.9 2 2 2h14c1.1 0 2-.9 2-2V5c0-1.1-.9-2-2-2zM9 17H7v-7h2v7zm4 0h-2V7h2v10zm4 0h-2v-4h2v4z\"/>\n",
              "    </g>\n",
              "</svg>\n",
              "  </button>\n",
              "\n",
              "<style>\n",
              "  .colab-df-quickchart {\n",
              "      --bg-color: #E8F0FE;\n",
              "      --fill-color: #1967D2;\n",
              "      --hover-bg-color: #E2EBFA;\n",
              "      --hover-fill-color: #174EA6;\n",
              "      --disabled-fill-color: #AAA;\n",
              "      --disabled-bg-color: #DDD;\n",
              "  }\n",
              "\n",
              "  [theme=dark] .colab-df-quickchart {\n",
              "      --bg-color: #3B4455;\n",
              "      --fill-color: #D2E3FC;\n",
              "      --hover-bg-color: #434B5C;\n",
              "      --hover-fill-color: #FFFFFF;\n",
              "      --disabled-bg-color: #3B4455;\n",
              "      --disabled-fill-color: #666;\n",
              "  }\n",
              "\n",
              "  .colab-df-quickchart {\n",
              "    background-color: var(--bg-color);\n",
              "    border: none;\n",
              "    border-radius: 50%;\n",
              "    cursor: pointer;\n",
              "    display: none;\n",
              "    fill: var(--fill-color);\n",
              "    height: 32px;\n",
              "    padding: 0;\n",
              "    width: 32px;\n",
              "  }\n",
              "\n",
              "  .colab-df-quickchart:hover {\n",
              "    background-color: var(--hover-bg-color);\n",
              "    box-shadow: 0 1px 2px rgba(60, 64, 67, 0.3), 0 1px 3px 1px rgba(60, 64, 67, 0.15);\n",
              "    fill: var(--button-hover-fill-color);\n",
              "  }\n",
              "\n",
              "  .colab-df-quickchart-complete:disabled,\n",
              "  .colab-df-quickchart-complete:disabled:hover {\n",
              "    background-color: var(--disabled-bg-color);\n",
              "    fill: var(--disabled-fill-color);\n",
              "    box-shadow: none;\n",
              "  }\n",
              "\n",
              "  .colab-df-spinner {\n",
              "    border: 2px solid var(--fill-color);\n",
              "    border-color: transparent;\n",
              "    border-bottom-color: var(--fill-color);\n",
              "    animation:\n",
              "      spin 1s steps(1) infinite;\n",
              "  }\n",
              "\n",
              "  @keyframes spin {\n",
              "    0% {\n",
              "      border-color: transparent;\n",
              "      border-bottom-color: var(--fill-color);\n",
              "      border-left-color: var(--fill-color);\n",
              "    }\n",
              "    20% {\n",
              "      border-color: transparent;\n",
              "      border-left-color: var(--fill-color);\n",
              "      border-top-color: var(--fill-color);\n",
              "    }\n",
              "    30% {\n",
              "      border-color: transparent;\n",
              "      border-left-color: var(--fill-color);\n",
              "      border-top-color: var(--fill-color);\n",
              "      border-right-color: var(--fill-color);\n",
              "    }\n",
              "    40% {\n",
              "      border-color: transparent;\n",
              "      border-right-color: var(--fill-color);\n",
              "      border-top-color: var(--fill-color);\n",
              "    }\n",
              "    60% {\n",
              "      border-color: transparent;\n",
              "      border-right-color: var(--fill-color);\n",
              "    }\n",
              "    80% {\n",
              "      border-color: transparent;\n",
              "      border-right-color: var(--fill-color);\n",
              "      border-bottom-color: var(--fill-color);\n",
              "    }\n",
              "    90% {\n",
              "      border-color: transparent;\n",
              "      border-bottom-color: var(--fill-color);\n",
              "    }\n",
              "  }\n",
              "</style>\n",
              "\n",
              "  <script>\n",
              "    async function quickchart(key) {\n",
              "      const quickchartButtonEl =\n",
              "        document.querySelector('#' + key + ' button');\n",
              "      quickchartButtonEl.disabled = true;  // To prevent multiple clicks.\n",
              "      quickchartButtonEl.classList.add('colab-df-spinner');\n",
              "      try {\n",
              "        const charts = await google.colab.kernel.invokeFunction(\n",
              "            'suggestCharts', [key], {});\n",
              "      } catch (error) {\n",
              "        console.error('Error during call to suggestCharts:', error);\n",
              "      }\n",
              "      quickchartButtonEl.classList.remove('colab-df-spinner');\n",
              "      quickchartButtonEl.classList.add('colab-df-quickchart-complete');\n",
              "    }\n",
              "    (() => {\n",
              "      let quickchartButtonEl =\n",
              "        document.querySelector('#df-b45bbb07-c502-4bcf-a70f-64543b96a563 button');\n",
              "      quickchartButtonEl.style.display =\n",
              "        google.colab.kernel.accessAllowed ? 'block' : 'none';\n",
              "    })();\n",
              "  </script>\n",
              "</div>\n",
              "\n",
              "    </div>\n",
              "  </div>\n"
            ],
            "application/vnd.google.colaboratory.intrinsic+json": {
              "type": "dataframe",
              "summary": "{\n  \"name\": \"df\",\n  \"rows\": 8,\n  \"fields\": [\n    {\n      \"column\": \"Unnamed: 0\",\n      \"properties\": {\n        \"dtype\": \"number\",\n        \"std\": 192536.04968680258,\n        \"min\": 0.0,\n        \"max\": 551585.0,\n        \"num_unique_values\": 8,\n        \"samples\": [\n          7006.200471368873,\n          5933.0,\n          551585.0\n        ],\n        \"semantic_type\": \"\",\n        \"description\": \"\"\n      }\n    }\n  ]\n}"
            }
          },
          "metadata": {},
          "execution_count": 426
        }
      ]
    },
    {
      "cell_type": "markdown",
      "source": [
        "Unnamed is id of product, renaming it"
      ],
      "metadata": {
        "id": "VejdTRfHQU9k"
      }
    },
    {
      "cell_type": "code",
      "source": [
        "df.rename(columns={\"Unnamed: 0\":\"product_id\"},inplace=True)"
      ],
      "metadata": {
        "id": "qsUwaUChQZyM"
      },
      "execution_count": 427,
      "outputs": []
    },
    {
      "cell_type": "code",
      "source": [
        "df.sample(3)"
      ],
      "metadata": {
        "colab": {
          "base_uri": "https://localhost:8080/",
          "height": 423
        },
        "id": "Vp4GOjrIQ-fN",
        "outputId": "4b453eb2-c877-45ea-a52d-a77e523cade4"
      },
      "execution_count": 428,
      "outputs": [
        {
          "output_type": "execute_result",
          "data": {
            "text/plain": [
              "        product_id                                               name  \\\n",
              "256492        1429  VNQ® Ac Remote Compatible with O General Ac (M...   \n",
              "344521        4666  FZN 12 Volt Inverter Battery Hydrometer Specif...   \n",
              "68913         8553  Lanyard Wrist Strap for Cell Phone Cases Keys ...   \n",
              "\n",
              "              main_category                sub_category  \\\n",
              "256492  tv, audio & cameras  Home Entertainment Systems   \n",
              "344521           appliances   Kitchen & Home Appliances   \n",
              "68913   tv, audio & cameras          Camera Accessories   \n",
              "\n",
              "                                                    image  \\\n",
              "256492  https://m.media-amazon.com/images/I/31oLK0x8HU...   \n",
              "344521  https://m.media-amazon.com/images/I/11dPDxgjAk...   \n",
              "68913   https://m.media-amazon.com/images/I/51DoPRp+EI...   \n",
              "\n",
              "                                                     link ratings  \\\n",
              "256492  https://www.amazon.in/Compatible-General-Whats...     4.0   \n",
              "344521  https://www.amazon.in/FZN-Inverter-Hydrometer-...     4.1   \n",
              "68913   https://www.amazon.in/WristIDTM-Wrist-Strap-Ad...     3.3   \n",
              "\n",
              "       no_of_ratings discount_price actual_price  \n",
              "256492           225           ₹499         ₹999  \n",
              "344521             9           ₹300         ₹500  \n",
              "68913              7           ₹312         ₹599  "
            ],
            "text/html": [
              "\n",
              "  <div id=\"df-86b47bdb-b120-45de-b49d-1c5e563b36d6\" class=\"colab-df-container\">\n",
              "    <div>\n",
              "<style scoped>\n",
              "    .dataframe tbody tr th:only-of-type {\n",
              "        vertical-align: middle;\n",
              "    }\n",
              "\n",
              "    .dataframe tbody tr th {\n",
              "        vertical-align: top;\n",
              "    }\n",
              "\n",
              "    .dataframe thead th {\n",
              "        text-align: right;\n",
              "    }\n",
              "</style>\n",
              "<table border=\"1\" class=\"dataframe\">\n",
              "  <thead>\n",
              "    <tr style=\"text-align: right;\">\n",
              "      <th></th>\n",
              "      <th>product_id</th>\n",
              "      <th>name</th>\n",
              "      <th>main_category</th>\n",
              "      <th>sub_category</th>\n",
              "      <th>image</th>\n",
              "      <th>link</th>\n",
              "      <th>ratings</th>\n",
              "      <th>no_of_ratings</th>\n",
              "      <th>discount_price</th>\n",
              "      <th>actual_price</th>\n",
              "    </tr>\n",
              "  </thead>\n",
              "  <tbody>\n",
              "    <tr>\n",
              "      <th>256492</th>\n",
              "      <td>1429</td>\n",
              "      <td>VNQ® Ac Remote Compatible with O General Ac (M...</td>\n",
              "      <td>tv, audio &amp; cameras</td>\n",
              "      <td>Home Entertainment Systems</td>\n",
              "      <td>https://m.media-amazon.com/images/I/31oLK0x8HU...</td>\n",
              "      <td>https://www.amazon.in/Compatible-General-Whats...</td>\n",
              "      <td>4.0</td>\n",
              "      <td>225</td>\n",
              "      <td>₹499</td>\n",
              "      <td>₹999</td>\n",
              "    </tr>\n",
              "    <tr>\n",
              "      <th>344521</th>\n",
              "      <td>4666</td>\n",
              "      <td>FZN 12 Volt Inverter Battery Hydrometer Specif...</td>\n",
              "      <td>appliances</td>\n",
              "      <td>Kitchen &amp; Home Appliances</td>\n",
              "      <td>https://m.media-amazon.com/images/I/11dPDxgjAk...</td>\n",
              "      <td>https://www.amazon.in/FZN-Inverter-Hydrometer-...</td>\n",
              "      <td>4.1</td>\n",
              "      <td>9</td>\n",
              "      <td>₹300</td>\n",
              "      <td>₹500</td>\n",
              "    </tr>\n",
              "    <tr>\n",
              "      <th>68913</th>\n",
              "      <td>8553</td>\n",
              "      <td>Lanyard Wrist Strap for Cell Phone Cases Keys ...</td>\n",
              "      <td>tv, audio &amp; cameras</td>\n",
              "      <td>Camera Accessories</td>\n",
              "      <td>https://m.media-amazon.com/images/I/51DoPRp+EI...</td>\n",
              "      <td>https://www.amazon.in/WristIDTM-Wrist-Strap-Ad...</td>\n",
              "      <td>3.3</td>\n",
              "      <td>7</td>\n",
              "      <td>₹312</td>\n",
              "      <td>₹599</td>\n",
              "    </tr>\n",
              "  </tbody>\n",
              "</table>\n",
              "</div>\n",
              "    <div class=\"colab-df-buttons\">\n",
              "\n",
              "  <div class=\"colab-df-container\">\n",
              "    <button class=\"colab-df-convert\" onclick=\"convertToInteractive('df-86b47bdb-b120-45de-b49d-1c5e563b36d6')\"\n",
              "            title=\"Convert this dataframe to an interactive table.\"\n",
              "            style=\"display:none;\">\n",
              "\n",
              "  <svg xmlns=\"http://www.w3.org/2000/svg\" height=\"24px\" viewBox=\"0 -960 960 960\">\n",
              "    <path d=\"M120-120v-720h720v720H120Zm60-500h600v-160H180v160Zm220 220h160v-160H400v160Zm0 220h160v-160H400v160ZM180-400h160v-160H180v160Zm440 0h160v-160H620v160ZM180-180h160v-160H180v160Zm440 0h160v-160H620v160Z\"/>\n",
              "  </svg>\n",
              "    </button>\n",
              "\n",
              "  <style>\n",
              "    .colab-df-container {\n",
              "      display:flex;\n",
              "      gap: 12px;\n",
              "    }\n",
              "\n",
              "    .colab-df-convert {\n",
              "      background-color: #E8F0FE;\n",
              "      border: none;\n",
              "      border-radius: 50%;\n",
              "      cursor: pointer;\n",
              "      display: none;\n",
              "      fill: #1967D2;\n",
              "      height: 32px;\n",
              "      padding: 0 0 0 0;\n",
              "      width: 32px;\n",
              "    }\n",
              "\n",
              "    .colab-df-convert:hover {\n",
              "      background-color: #E2EBFA;\n",
              "      box-shadow: 0px 1px 2px rgba(60, 64, 67, 0.3), 0px 1px 3px 1px rgba(60, 64, 67, 0.15);\n",
              "      fill: #174EA6;\n",
              "    }\n",
              "\n",
              "    .colab-df-buttons div {\n",
              "      margin-bottom: 4px;\n",
              "    }\n",
              "\n",
              "    [theme=dark] .colab-df-convert {\n",
              "      background-color: #3B4455;\n",
              "      fill: #D2E3FC;\n",
              "    }\n",
              "\n",
              "    [theme=dark] .colab-df-convert:hover {\n",
              "      background-color: #434B5C;\n",
              "      box-shadow: 0px 1px 3px 1px rgba(0, 0, 0, 0.15);\n",
              "      filter: drop-shadow(0px 1px 2px rgba(0, 0, 0, 0.3));\n",
              "      fill: #FFFFFF;\n",
              "    }\n",
              "  </style>\n",
              "\n",
              "    <script>\n",
              "      const buttonEl =\n",
              "        document.querySelector('#df-86b47bdb-b120-45de-b49d-1c5e563b36d6 button.colab-df-convert');\n",
              "      buttonEl.style.display =\n",
              "        google.colab.kernel.accessAllowed ? 'block' : 'none';\n",
              "\n",
              "      async function convertToInteractive(key) {\n",
              "        const element = document.querySelector('#df-86b47bdb-b120-45de-b49d-1c5e563b36d6');\n",
              "        const dataTable =\n",
              "          await google.colab.kernel.invokeFunction('convertToInteractive',\n",
              "                                                    [key], {});\n",
              "        if (!dataTable) return;\n",
              "\n",
              "        const docLinkHtml = 'Like what you see? Visit the ' +\n",
              "          '<a target=\"_blank\" href=https://colab.research.google.com/notebooks/data_table.ipynb>data table notebook</a>'\n",
              "          + ' to learn more about interactive tables.';\n",
              "        element.innerHTML = '';\n",
              "        dataTable['output_type'] = 'display_data';\n",
              "        await google.colab.output.renderOutput(dataTable, element);\n",
              "        const docLink = document.createElement('div');\n",
              "        docLink.innerHTML = docLinkHtml;\n",
              "        element.appendChild(docLink);\n",
              "      }\n",
              "    </script>\n",
              "  </div>\n",
              "\n",
              "\n",
              "<div id=\"df-72eb2db3-9a74-4acd-80b0-f1797fcbe026\">\n",
              "  <button class=\"colab-df-quickchart\" onclick=\"quickchart('df-72eb2db3-9a74-4acd-80b0-f1797fcbe026')\"\n",
              "            title=\"Suggest charts\"\n",
              "            style=\"display:none;\">\n",
              "\n",
              "<svg xmlns=\"http://www.w3.org/2000/svg\" height=\"24px\"viewBox=\"0 0 24 24\"\n",
              "     width=\"24px\">\n",
              "    <g>\n",
              "        <path d=\"M19 3H5c-1.1 0-2 .9-2 2v14c0 1.1.9 2 2 2h14c1.1 0 2-.9 2-2V5c0-1.1-.9-2-2-2zM9 17H7v-7h2v7zm4 0h-2V7h2v10zm4 0h-2v-4h2v4z\"/>\n",
              "    </g>\n",
              "</svg>\n",
              "  </button>\n",
              "\n",
              "<style>\n",
              "  .colab-df-quickchart {\n",
              "      --bg-color: #E8F0FE;\n",
              "      --fill-color: #1967D2;\n",
              "      --hover-bg-color: #E2EBFA;\n",
              "      --hover-fill-color: #174EA6;\n",
              "      --disabled-fill-color: #AAA;\n",
              "      --disabled-bg-color: #DDD;\n",
              "  }\n",
              "\n",
              "  [theme=dark] .colab-df-quickchart {\n",
              "      --bg-color: #3B4455;\n",
              "      --fill-color: #D2E3FC;\n",
              "      --hover-bg-color: #434B5C;\n",
              "      --hover-fill-color: #FFFFFF;\n",
              "      --disabled-bg-color: #3B4455;\n",
              "      --disabled-fill-color: #666;\n",
              "  }\n",
              "\n",
              "  .colab-df-quickchart {\n",
              "    background-color: var(--bg-color);\n",
              "    border: none;\n",
              "    border-radius: 50%;\n",
              "    cursor: pointer;\n",
              "    display: none;\n",
              "    fill: var(--fill-color);\n",
              "    height: 32px;\n",
              "    padding: 0;\n",
              "    width: 32px;\n",
              "  }\n",
              "\n",
              "  .colab-df-quickchart:hover {\n",
              "    background-color: var(--hover-bg-color);\n",
              "    box-shadow: 0 1px 2px rgba(60, 64, 67, 0.3), 0 1px 3px 1px rgba(60, 64, 67, 0.15);\n",
              "    fill: var(--button-hover-fill-color);\n",
              "  }\n",
              "\n",
              "  .colab-df-quickchart-complete:disabled,\n",
              "  .colab-df-quickchart-complete:disabled:hover {\n",
              "    background-color: var(--disabled-bg-color);\n",
              "    fill: var(--disabled-fill-color);\n",
              "    box-shadow: none;\n",
              "  }\n",
              "\n",
              "  .colab-df-spinner {\n",
              "    border: 2px solid var(--fill-color);\n",
              "    border-color: transparent;\n",
              "    border-bottom-color: var(--fill-color);\n",
              "    animation:\n",
              "      spin 1s steps(1) infinite;\n",
              "  }\n",
              "\n",
              "  @keyframes spin {\n",
              "    0% {\n",
              "      border-color: transparent;\n",
              "      border-bottom-color: var(--fill-color);\n",
              "      border-left-color: var(--fill-color);\n",
              "    }\n",
              "    20% {\n",
              "      border-color: transparent;\n",
              "      border-left-color: var(--fill-color);\n",
              "      border-top-color: var(--fill-color);\n",
              "    }\n",
              "    30% {\n",
              "      border-color: transparent;\n",
              "      border-left-color: var(--fill-color);\n",
              "      border-top-color: var(--fill-color);\n",
              "      border-right-color: var(--fill-color);\n",
              "    }\n",
              "    40% {\n",
              "      border-color: transparent;\n",
              "      border-right-color: var(--fill-color);\n",
              "      border-top-color: var(--fill-color);\n",
              "    }\n",
              "    60% {\n",
              "      border-color: transparent;\n",
              "      border-right-color: var(--fill-color);\n",
              "    }\n",
              "    80% {\n",
              "      border-color: transparent;\n",
              "      border-right-color: var(--fill-color);\n",
              "      border-bottom-color: var(--fill-color);\n",
              "    }\n",
              "    90% {\n",
              "      border-color: transparent;\n",
              "      border-bottom-color: var(--fill-color);\n",
              "    }\n",
              "  }\n",
              "</style>\n",
              "\n",
              "  <script>\n",
              "    async function quickchart(key) {\n",
              "      const quickchartButtonEl =\n",
              "        document.querySelector('#' + key + ' button');\n",
              "      quickchartButtonEl.disabled = true;  // To prevent multiple clicks.\n",
              "      quickchartButtonEl.classList.add('colab-df-spinner');\n",
              "      try {\n",
              "        const charts = await google.colab.kernel.invokeFunction(\n",
              "            'suggestCharts', [key], {});\n",
              "      } catch (error) {\n",
              "        console.error('Error during call to suggestCharts:', error);\n",
              "      }\n",
              "      quickchartButtonEl.classList.remove('colab-df-spinner');\n",
              "      quickchartButtonEl.classList.add('colab-df-quickchart-complete');\n",
              "    }\n",
              "    (() => {\n",
              "      let quickchartButtonEl =\n",
              "        document.querySelector('#df-72eb2db3-9a74-4acd-80b0-f1797fcbe026 button');\n",
              "      quickchartButtonEl.style.display =\n",
              "        google.colab.kernel.accessAllowed ? 'block' : 'none';\n",
              "    })();\n",
              "  </script>\n",
              "</div>\n",
              "\n",
              "    </div>\n",
              "  </div>\n"
            ],
            "application/vnd.google.colaboratory.intrinsic+json": {
              "type": "dataframe",
              "summary": "{\n  \"name\": \"df\",\n  \"rows\": 3,\n  \"fields\": [\n    {\n      \"column\": \"product_id\",\n      \"properties\": {\n        \"dtype\": \"number\",\n        \"std\": 3566,\n        \"min\": 1429,\n        \"max\": 8553,\n        \"num_unique_values\": 3,\n        \"samples\": [\n          1429,\n          4666,\n          8553\n        ],\n        \"semantic_type\": \"\",\n        \"description\": \"\"\n      }\n    },\n    {\n      \"column\": \"name\",\n      \"properties\": {\n        \"dtype\": \"string\",\n        \"num_unique_values\": 3,\n        \"samples\": [\n          \"VNQ\\u00ae Ac Remote Compatible with O General Ac (Model- AR-JE11), Your Old Remote Must be Exactly Same,\",\n          \"FZN 12 Volt Inverter Battery Hydrometer Specific Gravity Tester (AXB-Medium Size, Black)\",\n          \"Lanyard Wrist Strap for Cell Phone Cases Keys Cameras and ID Quick Catch Adjustable String Pack of 1 Red On Amazon\"\n        ],\n        \"semantic_type\": \"\",\n        \"description\": \"\"\n      }\n    },\n    {\n      \"column\": \"main_category\",\n      \"properties\": {\n        \"dtype\": \"string\",\n        \"num_unique_values\": 2,\n        \"samples\": [\n          \"appliances\",\n          \"tv, audio & cameras\"\n        ],\n        \"semantic_type\": \"\",\n        \"description\": \"\"\n      }\n    },\n    {\n      \"column\": \"sub_category\",\n      \"properties\": {\n        \"dtype\": \"string\",\n        \"num_unique_values\": 3,\n        \"samples\": [\n          \"Home Entertainment Systems\",\n          \"Kitchen & Home Appliances\"\n        ],\n        \"semantic_type\": \"\",\n        \"description\": \"\"\n      }\n    },\n    {\n      \"column\": \"image\",\n      \"properties\": {\n        \"dtype\": \"string\",\n        \"num_unique_values\": 3,\n        \"samples\": [\n          \"https://m.media-amazon.com/images/I/31oLK0x8HUL._AC_UL320_.jpg\",\n          \"https://m.media-amazon.com/images/I/11dPDxgjAkL._AC_UL320_.jpg\"\n        ],\n        \"semantic_type\": \"\",\n        \"description\": \"\"\n      }\n    },\n    {\n      \"column\": \"link\",\n      \"properties\": {\n        \"dtype\": \"string\",\n        \"num_unique_values\": 3,\n        \"samples\": [\n          \"https://www.amazon.in/Compatible-General-Whatsapp-9667779683-verification/dp/B08SMGW135/ref=sr_1_1436?qid=1679128203&s=electronics&sr=1-1436\",\n          \"https://www.amazon.in/FZN-Inverter-Hydrometer-Specific-AXB-Medium/dp/B0BRD9ZJWQ/ref=sr_1_4670?qid=1679134745&s=kitchen&sr=1-4670\"\n        ],\n        \"semantic_type\": \"\",\n        \"description\": \"\"\n      }\n    },\n    {\n      \"column\": \"ratings\",\n      \"properties\": {\n        \"dtype\": \"string\",\n        \"num_unique_values\": 3,\n        \"samples\": [\n          \"4.0\",\n          \"4.1\"\n        ],\n        \"semantic_type\": \"\",\n        \"description\": \"\"\n      }\n    },\n    {\n      \"column\": \"no_of_ratings\",\n      \"properties\": {\n        \"dtype\": \"string\",\n        \"num_unique_values\": 3,\n        \"samples\": [\n          \"225\",\n          \"9\"\n        ],\n        \"semantic_type\": \"\",\n        \"description\": \"\"\n      }\n    },\n    {\n      \"column\": \"discount_price\",\n      \"properties\": {\n        \"dtype\": \"string\",\n        \"num_unique_values\": 3,\n        \"samples\": [\n          \"\\u20b9499\",\n          \"\\u20b9300\"\n        ],\n        \"semantic_type\": \"\",\n        \"description\": \"\"\n      }\n    },\n    {\n      \"column\": \"actual_price\",\n      \"properties\": {\n        \"dtype\": \"string\",\n        \"num_unique_values\": 3,\n        \"samples\": [\n          \"\\u20b9999\",\n          \"\\u20b9500\"\n        ],\n        \"semantic_type\": \"\",\n        \"description\": \"\"\n      }\n    }\n  ]\n}"
            }
          },
          "metadata": {},
          "execution_count": 428
        }
      ]
    },
    {
      "cell_type": "code",
      "source": [
        "df.info()"
      ],
      "metadata": {
        "colab": {
          "base_uri": "https://localhost:8080/"
        },
        "id": "Q-nXk4DHMGBF",
        "outputId": "e0e0787c-ce01-475c-c7fa-5ac8d61625a6"
      },
      "execution_count": 429,
      "outputs": [
        {
          "output_type": "stream",
          "name": "stdout",
          "text": [
            "<class 'pandas.core.frame.DataFrame'>\n",
            "RangeIndex: 551585 entries, 0 to 551584\n",
            "Data columns (total 10 columns):\n",
            " #   Column          Non-Null Count   Dtype \n",
            "---  ------          --------------   ----- \n",
            " 0   product_id      551585 non-null  int64 \n",
            " 1   name            551585 non-null  object\n",
            " 2   main_category   551585 non-null  object\n",
            " 3   sub_category    551585 non-null  object\n",
            " 4   image           551585 non-null  object\n",
            " 5   link            551585 non-null  object\n",
            " 6   ratings         375791 non-null  object\n",
            " 7   no_of_ratings   375791 non-null  object\n",
            " 8   discount_price  490422 non-null  object\n",
            " 9   actual_price    533772 non-null  object\n",
            "dtypes: int64(1), object(9)\n",
            "memory usage: 42.1+ MB\n"
          ]
        }
      ]
    },
    {
      "cell_type": "markdown",
      "source": [
        "### ratings , no_of_ratings, discount_price and actual_price has missing values.   "
      ],
      "metadata": {
        "id": "SuC5TO00T0Pn"
      }
    },
    {
      "cell_type": "markdown",
      "source": [
        "ratings , no_of_ratings, discount_price and actual_price are integer or decimal value columns but are stored as object type in pandas dataframe.\n",
        "We need to convert them to proper data types."
      ],
      "metadata": {
        "id": "GHhRm5xfU3Ue"
      }
    },
    {
      "cell_type": "code",
      "source": [
        "df['discount_price'].unique()"
      ],
      "metadata": {
        "colab": {
          "base_uri": "https://localhost:8080/"
        },
        "id": "MflWw_63ZW4_",
        "outputId": "cec28404-166a-4f18-9867-e11b3709f10a"
      },
      "execution_count": 430,
      "outputs": [
        {
          "output_type": "execute_result",
          "data": {
            "text/plain": [
              "array(['₹32,999', '₹46,490', '₹34,490', ..., '₹3,712.10', '₹1,429.60',\n",
              "       '₹651.01'], dtype=object)"
            ]
          },
          "metadata": {},
          "execution_count": 430
        }
      ]
    },
    {
      "cell_type": "markdown",
      "source": [
        "',' and ₹ need to be removed to make it decimal data type ."
      ],
      "metadata": {
        "id": "rEwp24_0Ze-_"
      }
    },
    {
      "cell_type": "code",
      "source": [
        "df['no_of_ratings'].dtypes"
      ],
      "metadata": {
        "colab": {
          "base_uri": "https://localhost:8080/"
        },
        "id": "RJbX19RvaSZz",
        "outputId": "5b2bf54d-900e-4354-fb38-f87a87a1486f"
      },
      "execution_count": 431,
      "outputs": [
        {
          "output_type": "execute_result",
          "data": {
            "text/plain": [
              "dtype('O')"
            ]
          },
          "metadata": {},
          "execution_count": 431
        }
      ]
    },
    {
      "cell_type": "code",
      "source": [
        "df['no_of_ratings'].unique()"
      ],
      "metadata": {
        "colab": {
          "base_uri": "https://localhost:8080/"
        },
        "id": "UUsCcJriZCKw",
        "outputId": "e3ba20e2-2869-4ebb-ce24-3fadb6d1412c"
      },
      "execution_count": 432,
      "outputs": [
        {
          "output_type": "execute_result",
          "data": {
            "text/plain": [
              "array(['2,255', '2,948', '1,206', ..., '3,329', '7,141', '4,406'],\n",
              "      dtype=object)"
            ]
          },
          "metadata": {},
          "execution_count": 432
        }
      ]
    },
    {
      "cell_type": "markdown",
      "source": [
        "no_of_ratings column has ',' which is causing it to become object type"
      ],
      "metadata": {
        "id": "iElmgs-iZMye"
      }
    },
    {
      "cell_type": "markdown",
      "source": [
        "Convert no_of _ratings into  float type"
      ],
      "metadata": {
        "id": "BHw7Mp0ZAk1e"
      }
    },
    {
      "cell_type": "code",
      "source": [
        "df['no_of_ratings']=df['no_of_ratings'].apply(lambda x: x.replace(',','') if \",\" in str(x) else x)"
      ],
      "metadata": {
        "id": "X0cfsxkyZ4p4"
      },
      "execution_count": 433,
      "outputs": []
    },
    {
      "cell_type": "code",
      "source": [
        "# df['no_of_ratings']=df['no_of_ratings'].astype(float)\n",
        "# some error ocurred"
      ],
      "metadata": {
        "id": "rTYDjb5oAiWS"
      },
      "execution_count": 434,
      "outputs": []
    },
    {
      "cell_type": "code",
      "source": [
        "df.groupby([\"no_of_ratings\"])[\"no_of_ratings\"].value_counts().tail(25)"
      ],
      "metadata": {
        "colab": {
          "base_uri": "https://localhost:8080/"
        },
        "id": "jfjPXcoBDlYx",
        "outputId": "c08aeef1-ba38-40e9-c009-f905ae6c482c"
      },
      "execution_count": 435,
      "outputs": [
        {
          "output_type": "execute_result",
          "data": {
            "text/plain": [
              "no_of_ratings\n",
              "9984                                                3\n",
              "9985                                                1\n",
              "9986                                                3\n",
              "999                                                 9\n",
              "9995                                                1\n",
              "FREE Delivery by Amazon                          3296\n",
              "Only 1 left in stock.                            1050\n",
              "Only 2 left in stock.                             562\n",
              "Only 3 left in stock.                              34\n",
              "Only 4 left in stock.                              22\n",
              "Only 5 left in stock.                              29\n",
              "This item will be released on August 14 2023.       1\n",
              "Usually dispatched in 1 to 2 months.                1\n",
              "Usually dispatched in 11 to 12 days.               17\n",
              "Usually dispatched in 2 to 3 days.                  6\n",
              "Usually dispatched in 2 to 3 weeks.                 8\n",
              "Usually dispatched in 3 to 4 weeks.               847\n",
              "Usually dispatched in 3 to 5 days.                  3\n",
              "Usually dispatched in 4 to 5 days.                190\n",
              "Usually dispatched in 4 to 5 weeks.                 8\n",
              "Usually dispatched in 5 to 6 days.                 70\n",
              "Usually dispatched in 6 to 7 days.                 45\n",
              "Usually dispatched in 7 to 8 days.                 42\n",
              "Usually dispatched in 8 to 9 days.                  1\n",
              "Usually dispatched in 9 to 10 days.                 1\n",
              "Name: count, dtype: int64"
            ]
          },
          "metadata": {},
          "execution_count": 435
        }
      ]
    },
    {
      "cell_type": "markdown",
      "source": [
        "There are some records which have wrong data in no_of_ratings column, so imputing them with nan values"
      ],
      "metadata": {
        "id": "CDlt7HJRB7Vq"
      }
    },
    {
      "cell_type": "code",
      "source": [
        "wrong_strings_list=['FREE Delivery by Amazon','Only 1 left in stock.','Only 2 left in stock.',\n",
        "                    'Only 3 left in stock.','Usually dispatched in 2 to 3 days.','Usually dispatched in 3 to 4 weeks.',\n",
        "                    'Usually dispatched in 4 to 5 days.','Usually dispatched in 4 to 5 weeks.','Usually dispatched in 5 to 6 days.'\n",
        "                    ,'Usually dispatched in 6 to 7 days.','Usually dispatched in 7 to 8 days.','Only 4 left in stock.'\n",
        "                    ,'Only 5 left in stock.','Usually dispatched in 11 to 12 days.','Usually dispatched in 3 to 5 days.'\n",
        "                    ,'Usually dispatched in 9 to 10 days.','Usually dispatched in 2 to 3 weeks.','Usually dispatched in 8 to 9 days.'\n",
        "                    ,'Usually dispatched in 1 to 2 months.','This item will be released on August 14 2023.']"
      ],
      "metadata": {
        "id": "aL7xfCDLCFuq"
      },
      "execution_count": 436,
      "outputs": []
    },
    {
      "cell_type": "code",
      "source": [
        "# replacing each wrong string to null values\n",
        "for i in wrong_strings_list:\n",
        "  df.loc[df['no_of_ratings']==i, 'no_of_ratings'] = np.nan\n"
      ],
      "metadata": {
        "id": "aS95xNgnCW-y"
      },
      "execution_count": 437,
      "outputs": []
    },
    {
      "cell_type": "code",
      "source": [
        "df['no_of_ratings']=df['no_of_ratings'].astype(float)"
      ],
      "metadata": {
        "id": "VHcJyWzgDOIR"
      },
      "execution_count": 438,
      "outputs": []
    },
    {
      "cell_type": "markdown",
      "source": [
        "For ratings column"
      ],
      "metadata": {
        "id": "vKrxF0OjIPHZ"
      }
    },
    {
      "cell_type": "code",
      "source": [
        "df.groupby([\"ratings\"])[\"ratings\"].value_counts().tail(15)"
      ],
      "metadata": {
        "colab": {
          "base_uri": "https://localhost:8080/"
        },
        "id": "HKE4rKvMIRAz",
        "outputId": "a33e9160-2299-4b53-9398-ff9d25647fb9"
      },
      "execution_count": 439,
      "outputs": [
        {
          "output_type": "execute_result",
          "data": {
            "text/plain": [
              "ratings\n",
              "4.4       13809\n",
              "4.5       12618\n",
              "4.6        8348\n",
              "4.7        5365\n",
              "4.8        2343\n",
              "4.9         521\n",
              "5.0       32875\n",
              "FREE       1357\n",
              "Get        4852\n",
              "₹100          1\n",
              "₹2.99         2\n",
              "₹65           1\n",
              "₹68.99        1\n",
              "₹70           5\n",
              "₹99          14\n",
              "Name: count, dtype: int64"
            ]
          },
          "metadata": {},
          "execution_count": 439
        }
      ]
    },
    {
      "cell_type": "code",
      "source": [
        "wrong_strings_list=['FREE','Get','₹100'\n",
        "                    ,'₹2.99','₹65','₹68.99'\n",
        "                    ,'₹70','₹99'\n",
        "                    ]\n",
        "\n",
        "# replacing each wrong string to null values\n",
        "for i in wrong_strings_list:\n",
        "  df.loc[df['ratings']==i, 'ratings'] = np.nan\n"
      ],
      "metadata": {
        "id": "rbHv13zjIn2C"
      },
      "execution_count": 440,
      "outputs": []
    },
    {
      "cell_type": "code",
      "source": [
        "df['ratings']=df['ratings'].astype(float)"
      ],
      "metadata": {
        "id": "4PTkknuUJOR6"
      },
      "execution_count": 441,
      "outputs": []
    },
    {
      "cell_type": "markdown",
      "source": [
        "For discount price and actual price"
      ],
      "metadata": {
        "id": "T698lh8BJl4j"
      }
    },
    {
      "cell_type": "code",
      "source": [
        "df[\"discount_price\"].value_counts()"
      ],
      "metadata": {
        "colab": {
          "base_uri": "https://localhost:8080/"
        },
        "id": "F1h7R1N5JlqB",
        "outputId": "5016aac2-96b4-4e52-fdf5-6c7d828aea8d"
      },
      "execution_count": 442,
      "outputs": [
        {
          "output_type": "execute_result",
          "data": {
            "text/plain": [
              "discount_price\n",
              "₹499       18248\n",
              "₹299       15337\n",
              "₹399       14510\n",
              "₹999       13000\n",
              "₹599       11760\n",
              "           ...  \n",
              "₹19,286        1\n",
              "₹14,683        1\n",
              "₹21,343        1\n",
              "₹23,771        1\n",
              "₹651.01        1\n",
              "Name: count, Length: 27511, dtype: int64"
            ]
          },
          "metadata": {},
          "execution_count": 442
        }
      ]
    },
    {
      "cell_type": "code",
      "source": [
        "df[\"discount_price\"]=df[\"discount_price\"].apply(lambda x: x.replace(\"₹\",\"\") if \"₹\" in str(x)  else x)\n",
        "df[\"discount_price\"]=df[\"discount_price\"].apply(lambda x: x.replace(\",\",\"\") if \",\" in str(x)  else x)\n",
        "df[\"discount_price\"]=df[\"discount_price\"].astype(float)"
      ],
      "metadata": {
        "id": "9wNW3klTJ3mc"
      },
      "execution_count": 443,
      "outputs": []
    },
    {
      "cell_type": "code",
      "source": [
        "df['discount_price'].value_counts()"
      ],
      "metadata": {
        "colab": {
          "base_uri": "https://localhost:8080/"
        },
        "id": "EJBTbfJaV6bu",
        "outputId": "10321914-13bd-4cd2-e3ef-c01fd22384c9"
      },
      "execution_count": 444,
      "outputs": [
        {
          "output_type": "execute_result",
          "data": {
            "text/plain": [
              "discount_price\n",
              "499.00      18248\n",
              "299.00      15337\n",
              "399.00      14510\n",
              "999.00      13000\n",
              "599.00      11760\n",
              "            ...  \n",
              "19286.00        1\n",
              "14683.00        1\n",
              "21343.00        1\n",
              "23771.00        1\n",
              "651.01          1\n",
              "Name: count, Length: 27511, dtype: int64"
            ]
          },
          "metadata": {},
          "execution_count": 444
        }
      ]
    },
    {
      "cell_type": "markdown",
      "source": [
        "Repeating the same preprocessing For actual price column"
      ],
      "metadata": {
        "id": "iTKMYiJQK__D"
      }
    },
    {
      "cell_type": "code",
      "source": [
        "df[\"actual_price\"].value_counts()"
      ],
      "metadata": {
        "colab": {
          "base_uri": "https://localhost:8080/"
        },
        "id": "CMg4c1YILLFk",
        "outputId": "119d7d33-8f60-48f7-b569-4efcee43d88e"
      },
      "execution_count": 445,
      "outputs": [
        {
          "output_type": "execute_result",
          "data": {
            "text/plain": [
              "actual_price\n",
              "₹999         48774\n",
              "₹1,999       25795\n",
              "₹1,499       18809\n",
              "₹499         14406\n",
              "₹1,299       14068\n",
              "             ...  \n",
              "₹59,421          1\n",
              "₹52,072          1\n",
              "₹52,767          1\n",
              "₹32,877          1\n",
              "₹8,023.60        1\n",
              "Name: count, Length: 23170, dtype: int64"
            ]
          },
          "metadata": {},
          "execution_count": 445
        }
      ]
    },
    {
      "cell_type": "code",
      "source": [
        "df[\"actual_price\"]=df[\"actual_price\"].apply(lambda x: x.replace(\"₹\",\"\") if \"₹\" in str(x)  else x)\n",
        "df[\"actual_price\"]=df[\"actual_price\"].apply(lambda x: x.replace(\",\",\"\") if \",\" in str(x)  else x)\n",
        "df[\"actual_price\"]=df[\"actual_price\"].astype(float)"
      ],
      "metadata": {
        "id": "Fmq1RJ7oK_tL"
      },
      "execution_count": 446,
      "outputs": []
    },
    {
      "cell_type": "code",
      "source": [
        "df.describe()"
      ],
      "metadata": {
        "colab": {
          "base_uri": "https://localhost:8080/",
          "height": 300
        },
        "id": "-r_B41F3LUtk",
        "outputId": "a57d5517-a082-46df-ce6e-bb6b0aeca321"
      },
      "execution_count": 447,
      "outputs": [
        {
          "output_type": "execute_result",
          "data": {
            "text/plain": [
              "          product_id        ratings  no_of_ratings  discount_price  \\\n",
              "count  551585.000000  369558.000000  369558.000000    4.904220e+05   \n",
              "mean     7006.200471       3.832311     840.778698    2.623161e+03   \n",
              "std      5740.835523       0.756102    8651.536018    9.458196e+03   \n",
              "min         0.000000       1.000000       1.000000    8.000000e+00   \n",
              "25%      1550.000000       3.500000       4.000000    3.890000e+02   \n",
              "50%      5933.000000       3.900000      20.000000    6.790000e+02   \n",
              "75%     11482.000000       4.300000     133.000000    1.399000e+03   \n",
              "max     19199.000000       5.000000  589547.000000    1.249990e+06   \n",
              "\n",
              "       actual_price  \n",
              "count  5.337720e+05  \n",
              "mean   2.311128e+04  \n",
              "std    1.355082e+07  \n",
              "min    0.000000e+00  \n",
              "25%    9.900000e+02  \n",
              "50%    1.599000e+03  \n",
              "75%    2.999000e+03  \n",
              "max    9.900000e+09  "
            ],
            "text/html": [
              "\n",
              "  <div id=\"df-cd9ec254-8e27-4b74-a49b-5f414360d294\" class=\"colab-df-container\">\n",
              "    <div>\n",
              "<style scoped>\n",
              "    .dataframe tbody tr th:only-of-type {\n",
              "        vertical-align: middle;\n",
              "    }\n",
              "\n",
              "    .dataframe tbody tr th {\n",
              "        vertical-align: top;\n",
              "    }\n",
              "\n",
              "    .dataframe thead th {\n",
              "        text-align: right;\n",
              "    }\n",
              "</style>\n",
              "<table border=\"1\" class=\"dataframe\">\n",
              "  <thead>\n",
              "    <tr style=\"text-align: right;\">\n",
              "      <th></th>\n",
              "      <th>product_id</th>\n",
              "      <th>ratings</th>\n",
              "      <th>no_of_ratings</th>\n",
              "      <th>discount_price</th>\n",
              "      <th>actual_price</th>\n",
              "    </tr>\n",
              "  </thead>\n",
              "  <tbody>\n",
              "    <tr>\n",
              "      <th>count</th>\n",
              "      <td>551585.000000</td>\n",
              "      <td>369558.000000</td>\n",
              "      <td>369558.000000</td>\n",
              "      <td>4.904220e+05</td>\n",
              "      <td>5.337720e+05</td>\n",
              "    </tr>\n",
              "    <tr>\n",
              "      <th>mean</th>\n",
              "      <td>7006.200471</td>\n",
              "      <td>3.832311</td>\n",
              "      <td>840.778698</td>\n",
              "      <td>2.623161e+03</td>\n",
              "      <td>2.311128e+04</td>\n",
              "    </tr>\n",
              "    <tr>\n",
              "      <th>std</th>\n",
              "      <td>5740.835523</td>\n",
              "      <td>0.756102</td>\n",
              "      <td>8651.536018</td>\n",
              "      <td>9.458196e+03</td>\n",
              "      <td>1.355082e+07</td>\n",
              "    </tr>\n",
              "    <tr>\n",
              "      <th>min</th>\n",
              "      <td>0.000000</td>\n",
              "      <td>1.000000</td>\n",
              "      <td>1.000000</td>\n",
              "      <td>8.000000e+00</td>\n",
              "      <td>0.000000e+00</td>\n",
              "    </tr>\n",
              "    <tr>\n",
              "      <th>25%</th>\n",
              "      <td>1550.000000</td>\n",
              "      <td>3.500000</td>\n",
              "      <td>4.000000</td>\n",
              "      <td>3.890000e+02</td>\n",
              "      <td>9.900000e+02</td>\n",
              "    </tr>\n",
              "    <tr>\n",
              "      <th>50%</th>\n",
              "      <td>5933.000000</td>\n",
              "      <td>3.900000</td>\n",
              "      <td>20.000000</td>\n",
              "      <td>6.790000e+02</td>\n",
              "      <td>1.599000e+03</td>\n",
              "    </tr>\n",
              "    <tr>\n",
              "      <th>75%</th>\n",
              "      <td>11482.000000</td>\n",
              "      <td>4.300000</td>\n",
              "      <td>133.000000</td>\n",
              "      <td>1.399000e+03</td>\n",
              "      <td>2.999000e+03</td>\n",
              "    </tr>\n",
              "    <tr>\n",
              "      <th>max</th>\n",
              "      <td>19199.000000</td>\n",
              "      <td>5.000000</td>\n",
              "      <td>589547.000000</td>\n",
              "      <td>1.249990e+06</td>\n",
              "      <td>9.900000e+09</td>\n",
              "    </tr>\n",
              "  </tbody>\n",
              "</table>\n",
              "</div>\n",
              "    <div class=\"colab-df-buttons\">\n",
              "\n",
              "  <div class=\"colab-df-container\">\n",
              "    <button class=\"colab-df-convert\" onclick=\"convertToInteractive('df-cd9ec254-8e27-4b74-a49b-5f414360d294')\"\n",
              "            title=\"Convert this dataframe to an interactive table.\"\n",
              "            style=\"display:none;\">\n",
              "\n",
              "  <svg xmlns=\"http://www.w3.org/2000/svg\" height=\"24px\" viewBox=\"0 -960 960 960\">\n",
              "    <path d=\"M120-120v-720h720v720H120Zm60-500h600v-160H180v160Zm220 220h160v-160H400v160Zm0 220h160v-160H400v160ZM180-400h160v-160H180v160Zm440 0h160v-160H620v160ZM180-180h160v-160H180v160Zm440 0h160v-160H620v160Z\"/>\n",
              "  </svg>\n",
              "    </button>\n",
              "\n",
              "  <style>\n",
              "    .colab-df-container {\n",
              "      display:flex;\n",
              "      gap: 12px;\n",
              "    }\n",
              "\n",
              "    .colab-df-convert {\n",
              "      background-color: #E8F0FE;\n",
              "      border: none;\n",
              "      border-radius: 50%;\n",
              "      cursor: pointer;\n",
              "      display: none;\n",
              "      fill: #1967D2;\n",
              "      height: 32px;\n",
              "      padding: 0 0 0 0;\n",
              "      width: 32px;\n",
              "    }\n",
              "\n",
              "    .colab-df-convert:hover {\n",
              "      background-color: #E2EBFA;\n",
              "      box-shadow: 0px 1px 2px rgba(60, 64, 67, 0.3), 0px 1px 3px 1px rgba(60, 64, 67, 0.15);\n",
              "      fill: #174EA6;\n",
              "    }\n",
              "\n",
              "    .colab-df-buttons div {\n",
              "      margin-bottom: 4px;\n",
              "    }\n",
              "\n",
              "    [theme=dark] .colab-df-convert {\n",
              "      background-color: #3B4455;\n",
              "      fill: #D2E3FC;\n",
              "    }\n",
              "\n",
              "    [theme=dark] .colab-df-convert:hover {\n",
              "      background-color: #434B5C;\n",
              "      box-shadow: 0px 1px 3px 1px rgba(0, 0, 0, 0.15);\n",
              "      filter: drop-shadow(0px 1px 2px rgba(0, 0, 0, 0.3));\n",
              "      fill: #FFFFFF;\n",
              "    }\n",
              "  </style>\n",
              "\n",
              "    <script>\n",
              "      const buttonEl =\n",
              "        document.querySelector('#df-cd9ec254-8e27-4b74-a49b-5f414360d294 button.colab-df-convert');\n",
              "      buttonEl.style.display =\n",
              "        google.colab.kernel.accessAllowed ? 'block' : 'none';\n",
              "\n",
              "      async function convertToInteractive(key) {\n",
              "        const element = document.querySelector('#df-cd9ec254-8e27-4b74-a49b-5f414360d294');\n",
              "        const dataTable =\n",
              "          await google.colab.kernel.invokeFunction('convertToInteractive',\n",
              "                                                    [key], {});\n",
              "        if (!dataTable) return;\n",
              "\n",
              "        const docLinkHtml = 'Like what you see? Visit the ' +\n",
              "          '<a target=\"_blank\" href=https://colab.research.google.com/notebooks/data_table.ipynb>data table notebook</a>'\n",
              "          + ' to learn more about interactive tables.';\n",
              "        element.innerHTML = '';\n",
              "        dataTable['output_type'] = 'display_data';\n",
              "        await google.colab.output.renderOutput(dataTable, element);\n",
              "        const docLink = document.createElement('div');\n",
              "        docLink.innerHTML = docLinkHtml;\n",
              "        element.appendChild(docLink);\n",
              "      }\n",
              "    </script>\n",
              "  </div>\n",
              "\n",
              "\n",
              "<div id=\"df-2bc96d5a-acce-42cb-b609-9c392127a762\">\n",
              "  <button class=\"colab-df-quickchart\" onclick=\"quickchart('df-2bc96d5a-acce-42cb-b609-9c392127a762')\"\n",
              "            title=\"Suggest charts\"\n",
              "            style=\"display:none;\">\n",
              "\n",
              "<svg xmlns=\"http://www.w3.org/2000/svg\" height=\"24px\"viewBox=\"0 0 24 24\"\n",
              "     width=\"24px\">\n",
              "    <g>\n",
              "        <path d=\"M19 3H5c-1.1 0-2 .9-2 2v14c0 1.1.9 2 2 2h14c1.1 0 2-.9 2-2V5c0-1.1-.9-2-2-2zM9 17H7v-7h2v7zm4 0h-2V7h2v10zm4 0h-2v-4h2v4z\"/>\n",
              "    </g>\n",
              "</svg>\n",
              "  </button>\n",
              "\n",
              "<style>\n",
              "  .colab-df-quickchart {\n",
              "      --bg-color: #E8F0FE;\n",
              "      --fill-color: #1967D2;\n",
              "      --hover-bg-color: #E2EBFA;\n",
              "      --hover-fill-color: #174EA6;\n",
              "      --disabled-fill-color: #AAA;\n",
              "      --disabled-bg-color: #DDD;\n",
              "  }\n",
              "\n",
              "  [theme=dark] .colab-df-quickchart {\n",
              "      --bg-color: #3B4455;\n",
              "      --fill-color: #D2E3FC;\n",
              "      --hover-bg-color: #434B5C;\n",
              "      --hover-fill-color: #FFFFFF;\n",
              "      --disabled-bg-color: #3B4455;\n",
              "      --disabled-fill-color: #666;\n",
              "  }\n",
              "\n",
              "  .colab-df-quickchart {\n",
              "    background-color: var(--bg-color);\n",
              "    border: none;\n",
              "    border-radius: 50%;\n",
              "    cursor: pointer;\n",
              "    display: none;\n",
              "    fill: var(--fill-color);\n",
              "    height: 32px;\n",
              "    padding: 0;\n",
              "    width: 32px;\n",
              "  }\n",
              "\n",
              "  .colab-df-quickchart:hover {\n",
              "    background-color: var(--hover-bg-color);\n",
              "    box-shadow: 0 1px 2px rgba(60, 64, 67, 0.3), 0 1px 3px 1px rgba(60, 64, 67, 0.15);\n",
              "    fill: var(--button-hover-fill-color);\n",
              "  }\n",
              "\n",
              "  .colab-df-quickchart-complete:disabled,\n",
              "  .colab-df-quickchart-complete:disabled:hover {\n",
              "    background-color: var(--disabled-bg-color);\n",
              "    fill: var(--disabled-fill-color);\n",
              "    box-shadow: none;\n",
              "  }\n",
              "\n",
              "  .colab-df-spinner {\n",
              "    border: 2px solid var(--fill-color);\n",
              "    border-color: transparent;\n",
              "    border-bottom-color: var(--fill-color);\n",
              "    animation:\n",
              "      spin 1s steps(1) infinite;\n",
              "  }\n",
              "\n",
              "  @keyframes spin {\n",
              "    0% {\n",
              "      border-color: transparent;\n",
              "      border-bottom-color: var(--fill-color);\n",
              "      border-left-color: var(--fill-color);\n",
              "    }\n",
              "    20% {\n",
              "      border-color: transparent;\n",
              "      border-left-color: var(--fill-color);\n",
              "      border-top-color: var(--fill-color);\n",
              "    }\n",
              "    30% {\n",
              "      border-color: transparent;\n",
              "      border-left-color: var(--fill-color);\n",
              "      border-top-color: var(--fill-color);\n",
              "      border-right-color: var(--fill-color);\n",
              "    }\n",
              "    40% {\n",
              "      border-color: transparent;\n",
              "      border-right-color: var(--fill-color);\n",
              "      border-top-color: var(--fill-color);\n",
              "    }\n",
              "    60% {\n",
              "      border-color: transparent;\n",
              "      border-right-color: var(--fill-color);\n",
              "    }\n",
              "    80% {\n",
              "      border-color: transparent;\n",
              "      border-right-color: var(--fill-color);\n",
              "      border-bottom-color: var(--fill-color);\n",
              "    }\n",
              "    90% {\n",
              "      border-color: transparent;\n",
              "      border-bottom-color: var(--fill-color);\n",
              "    }\n",
              "  }\n",
              "</style>\n",
              "\n",
              "  <script>\n",
              "    async function quickchart(key) {\n",
              "      const quickchartButtonEl =\n",
              "        document.querySelector('#' + key + ' button');\n",
              "      quickchartButtonEl.disabled = true;  // To prevent multiple clicks.\n",
              "      quickchartButtonEl.classList.add('colab-df-spinner');\n",
              "      try {\n",
              "        const charts = await google.colab.kernel.invokeFunction(\n",
              "            'suggestCharts', [key], {});\n",
              "      } catch (error) {\n",
              "        console.error('Error during call to suggestCharts:', error);\n",
              "      }\n",
              "      quickchartButtonEl.classList.remove('colab-df-spinner');\n",
              "      quickchartButtonEl.classList.add('colab-df-quickchart-complete');\n",
              "    }\n",
              "    (() => {\n",
              "      let quickchartButtonEl =\n",
              "        document.querySelector('#df-2bc96d5a-acce-42cb-b609-9c392127a762 button');\n",
              "      quickchartButtonEl.style.display =\n",
              "        google.colab.kernel.accessAllowed ? 'block' : 'none';\n",
              "    })();\n",
              "  </script>\n",
              "</div>\n",
              "\n",
              "    </div>\n",
              "  </div>\n"
            ],
            "application/vnd.google.colaboratory.intrinsic+json": {
              "type": "dataframe",
              "summary": "{\n  \"name\": \"df\",\n  \"rows\": 8,\n  \"fields\": [\n    {\n      \"column\": \"product_id\",\n      \"properties\": {\n        \"dtype\": \"number\",\n        \"std\": 192536.04968680258,\n        \"min\": 0.0,\n        \"max\": 551585.0,\n        \"num_unique_values\": 8,\n        \"samples\": [\n          7006.200471368873,\n          5933.0,\n          551585.0\n        ],\n        \"semantic_type\": \"\",\n        \"description\": \"\"\n      }\n    },\n    {\n      \"column\": \"ratings\",\n      \"properties\": {\n        \"dtype\": \"number\",\n        \"std\": 130657.35819489011,\n        \"min\": 0.7561017423670282,\n        \"max\": 369558.0,\n        \"num_unique_values\": 8,\n        \"samples\": [\n          3.8323113016089505,\n          3.9,\n          369558.0\n        ],\n        \"semantic_type\": \"\",\n        \"description\": \"\"\n      }\n    },\n    {\n      \"column\": \"no_of_ratings\",\n      \"properties\": {\n        \"dtype\": \"number\",\n        \"std\": 228942.75553680104,\n        \"min\": 1.0,\n        \"max\": 589547.0,\n        \"num_unique_values\": 8,\n        \"samples\": [\n          840.7786977957452,\n          20.0,\n          369558.0\n        ],\n        \"semantic_type\": \"\",\n        \"description\": \"\"\n      }\n    },\n    {\n      \"column\": \"discount_price\",\n      \"properties\": {\n        \"dtype\": \"number\",\n        \"std\": 450094.9748602124,\n        \"min\": 8.0,\n        \"max\": 1249990.0,\n        \"num_unique_values\": 8,\n        \"samples\": [\n          2623.1607410760544,\n          679.0,\n          490422.0\n        ],\n        \"semantic_type\": \"\",\n        \"description\": \"\"\n      }\n    },\n    {\n      \"column\": \"actual_price\",\n      \"properties\": {\n        \"dtype\": \"number\",\n        \"std\": 3499468910.725231,\n        \"min\": 0.0,\n        \"max\": 9899999999.0,\n        \"num_unique_values\": 8,\n        \"samples\": [\n          23111.283469234044,\n          1599.0,\n          533772.0\n        ],\n        \"semantic_type\": \"\",\n        \"description\": \"\"\n      }\n    }\n  ]\n}"
            }
          },
          "metadata": {},
          "execution_count": 447
        }
      ]
    },
    {
      "cell_type": "code",
      "source": [
        "# df.query('(ratings == \"FREE\") | (ratings == \"GET\") |  (ratings == \"₹68.99\") ' ).sample(5)"
      ],
      "metadata": {
        "id": "OFWq14lwVNne"
      },
      "execution_count": 448,
      "outputs": []
    },
    {
      "cell_type": "markdown",
      "source": [
        "Now Imputing missing values in all columns, but before that dropping image and link column as we don't need them for our analysis"
      ],
      "metadata": {
        "id": "RjIXbr2L0ong"
      }
    },
    {
      "cell_type": "code",
      "source": [
        "df.drop(columns=['image','link'],axis=1,inplace=True)"
      ],
      "metadata": {
        "id": "NN0e7i4J00ae"
      },
      "execution_count": 449,
      "outputs": []
    },
    {
      "cell_type": "code",
      "source": [
        "df.isnull().sum().sort_values(ascending=False)"
      ],
      "metadata": {
        "colab": {
          "base_uri": "https://localhost:8080/"
        },
        "id": "2THYy75Q1khG",
        "outputId": "913d6106-67a8-4225-b0ab-ede18537c742"
      },
      "execution_count": 450,
      "outputs": [
        {
          "output_type": "execute_result",
          "data": {
            "text/plain": [
              "ratings           182027\n",
              "no_of_ratings     182027\n",
              "discount_price     61163\n",
              "actual_price       17813\n",
              "product_id             0\n",
              "name                   0\n",
              "main_category          0\n",
              "sub_category           0\n",
              "dtype: int64"
            ]
          },
          "metadata": {},
          "execution_count": 450
        }
      ]
    },
    {
      "cell_type": "code",
      "source": [
        "plt.figure(figsize=(16,6))\n",
        "#plot the null values by their precentage, only if the null values are more than 1%\n",
        "missing_values=df.isnull().sum().sort_values(ascending=False)/len(df)*100\n",
        "missing_values=missing_values[missing_values>1].plot(kind='bar')\n",
        "plt.text(0,3.5,\"Value:27244\",fontsize=12) # respective null values\n",
        "plt.text(1,4.5,\"Value:27244\",fontsize=12)\n",
        "plt.text(2,5.5,\"Value:11513\",fontsize=12)\n",
        "plt.text(3,6.5,\"Value:2611\",fontsize=12)\n",
        "plt.title(\"Frequency of Null values in different Columns\")\n",
        "plt.xlabel(\"Columns\")\n",
        "plt.ylabel(\"Frequency Count\")\n",
        "plt.show()"
      ],
      "metadata": {
        "colab": {
          "base_uri": "https://localhost:8080/",
          "height": 466
        },
        "id": "DDuEERQC1jrA",
        "outputId": "8383370c-a022-4751-fdd8-24be709d6c44"
      },
      "execution_count": 451,
      "outputs": [
        {
          "output_type": "display_data",
          "data": {
            "text/plain": [
              "<Figure size 1600x600 with 1 Axes>"
            ],
            "image/png": "[encoded data removed]"
          },
          "metadata": {}
        }
      ]
    },
    {
      "cell_type": "code",
      "source": [
        "sns.heatmap(df.isnull(),yticklabels=False,cbar=False,cmap=\"viridis\")"
      ],
      "metadata": {
        "colab": {
          "base_uri": "https://localhost:8080/",
          "height": 536
        },
        "id": "LFFf7Tht10yH",
        "outputId": "65cd771e-4efc-464e-c363-22937a187cb5"
      },
      "execution_count": 452,
      "outputs": [
        {
          "output_type": "execute_result",
          "data": {
            "text/plain": [
              "<Axes: >"
            ]
          },
          "metadata": {},
          "execution_count": 452
        },
        {
          "output_type": "display_data",
          "data": {
            "text/plain": [
              "<Figure size 640x480 with 1 Axes>"
            ],
            "image/png": "[encoded data removed]"
          },
          "metadata": {}
        }
      ]
    },
    {
      "cell_type": "markdown",
      "source": [
        "ratings and no_of_ratings have same missing values . Actual price and discount_price also have some missing values that needs to be imputed."
      ],
      "metadata": {
        "id": "fIXV3tEg2YU4"
      }
    },
    {
      "cell_type": "code",
      "source": [
        "sns.kdeplot(data=df,x='ratings')"
      ],
      "metadata": {
        "colab": {
          "base_uri": "https://localhost:8080/",
          "height": 466
        },
        "id": "DqiIJHtc2ojv",
        "outputId": "d1850a09-fff9-4281-a29c-49ea890bd52b"
      },
      "execution_count": 453,
      "outputs": [
        {
          "output_type": "execute_result",
          "data": {
            "text/plain": [
              "<Axes: xlabel='ratings', ylabel='Density'>"
            ]
          },
          "metadata": {},
          "execution_count": 453
        },
        {
          "output_type": "display_data",
          "data": {
            "text/plain": [
              "<Figure size 640x480 with 1 Axes>"
            ],
            "image/png": "[encoded data removed]"
          },
          "metadata": {}
        }
      ]
    },
    {
      "cell_type": "code",
      "source": [
        "sns.boxplot(data=df,x='ratings')"
      ],
      "metadata": {
        "colab": {
          "base_uri": "https://localhost:8080/",
          "height": 466
        },
        "id": "g-lrBLR_3p6Q",
        "outputId": "5fde0647-cab0-414d-8e95-4cd95e519bcd"
      },
      "execution_count": 454,
      "outputs": [
        {
          "output_type": "execute_result",
          "data": {
            "text/plain": [
              "<Axes: xlabel='ratings'>"
            ]
          },
          "metadata": {},
          "execution_count": 454
        },
        {
          "output_type": "display_data",
          "data": {
            "text/plain": [
              "<Figure size 640x480 with 1 Axes>"
            ],
            "image/png": "[encoded data removed]"
          },
          "metadata": {}
        }
      ]
    },
    {
      "cell_type": "markdown",
      "source": [
        "Ratings has some outliers and is not following normal distribution"
      ],
      "metadata": {
        "id": "BPijECte4EHY"
      }
    },
    {
      "cell_type": "code",
      "source": [
        "df['ratings'].fillna(df['ratings'].median(),inplace=True)"
      ],
      "metadata": {
        "id": "hEQeVzd74Nko"
      },
      "execution_count": 455,
      "outputs": []
    },
    {
      "cell_type": "code",
      "source": [
        "sns.boxplot(data=df,x='no_of_ratings')"
      ],
      "metadata": {
        "colab": {
          "base_uri": "https://localhost:8080/",
          "height": 467
        },
        "id": "Wh12wdaC4qlf",
        "outputId": "cffe1386-598f-4516-c91f-ba683b33e216"
      },
      "execution_count": 456,
      "outputs": [
        {
          "output_type": "execute_result",
          "data": {
            "text/plain": [
              "<Axes: xlabel='no_of_ratings'>"
            ]
          },
          "metadata": {},
          "execution_count": 456
        },
        {
          "output_type": "display_data",
          "data": {
            "text/plain": [
              "<Figure size 640x480 with 1 Axes>"
            ],
            "image/png": "[encoded data removed]"
          },
          "metadata": {}
        }
      ]
    },
    {
      "cell_type": "markdown",
      "source": [
        "Transformation should be done for better understanding"
      ],
      "metadata": {
        "id": "Vr1i_lEr5I1y"
      }
    },
    {
      "cell_type": "code",
      "source": [
        "df[\"log_of_no_of_ratings\"]=np.log(df[\"no_of_ratings\"])"
      ],
      "metadata": {
        "id": "kYDU2Wc-44fI"
      },
      "execution_count": 457,
      "outputs": []
    },
    {
      "cell_type": "code",
      "source": [
        "sns.boxplot(data=df,x='log_of_no_of_ratings')"
      ],
      "metadata": {
        "colab": {
          "base_uri": "https://localhost:8080/",
          "height": 467
        },
        "id": "DCjNNWDa5UPQ",
        "outputId": "4f091efa-c72e-4fe5-ee62-ae806c1f045e"
      },
      "execution_count": 458,
      "outputs": [
        {
          "output_type": "execute_result",
          "data": {
            "text/plain": [
              "<Axes: xlabel='log_of_no_of_ratings'>"
            ]
          },
          "metadata": {},
          "execution_count": 458
        },
        {
          "output_type": "display_data",
          "data": {
            "text/plain": [
              "<Figure size 640x480 with 1 Axes>"
            ],
            "image/png": "[encoded data removed]"
          },
          "metadata": {}
        }
      ]
    },
    {
      "cell_type": "markdown",
      "source": [
        "log_of_no_of_ratings has also some outliers, so replacing null values with median. Actually log_of_no_of_ratings is representing no_of_ratings column , so no_of_ratings column's null values can also be imputed using median"
      ],
      "metadata": {
        "id": "lcCT-qIw5j82"
      }
    },
    {
      "cell_type": "code",
      "source": [
        "df[\"log_of_no_of_ratings\"].fillna(df[\"log_of_no_of_ratings\"].median(),inplace=True)"
      ],
      "metadata": {
        "id": "k6bw278p5eCR"
      },
      "execution_count": 459,
      "outputs": []
    },
    {
      "cell_type": "code",
      "source": [
        "df[\"no_of_ratings\"].fillna(df[\"no_of_ratings\"].median(),inplace=True)"
      ],
      "metadata": {
        "id": "I0QSdGw9BCu_"
      },
      "execution_count": 460,
      "outputs": []
    },
    {
      "cell_type": "code",
      "source": [
        "print(\"Percentage of missing values in actual price \", (df[\"actual_price\"].isnull().sum()/len(df))*100)"
      ],
      "metadata": {
        "colab": {
          "base_uri": "https://localhost:8080/"
        },
        "id": "pDhQ5CPCB1iq",
        "outputId": "8270a3d6-a535-4565-c51d-6201e239f229"
      },
      "execution_count": 461,
      "outputs": [
        {
          "output_type": "stream",
          "name": "stdout",
          "text": [
            "Percentage of missing values in actual price  3.229420669525096\n"
          ]
        }
      ]
    },
    {
      "cell_type": "code",
      "source": [
        "sns.boxplot(data=df,x='actual_price')"
      ],
      "metadata": {
        "colab": {
          "base_uri": "https://localhost:8080/",
          "height": 467
        },
        "id": "V94Ve112FJfn",
        "outputId": "2140a8c4-2f1c-4a4e-ba6a-3aea1683fea7"
      },
      "execution_count": 462,
      "outputs": [
        {
          "output_type": "execute_result",
          "data": {
            "text/plain": [
              "<Axes: xlabel='actual_price'>"
            ]
          },
          "metadata": {},
          "execution_count": 462
        },
        {
          "output_type": "display_data",
          "data": {
            "text/plain": [
              "<Figure size 640x480 with 1 Axes>"
            ],
            "image/png": "[encoded data removed]"
          },
          "metadata": {}
        }
      ]
    },
    {
      "cell_type": "markdown",
      "source": [
        "Filling missing value in actual_price with median"
      ],
      "metadata": {
        "id": "NySecbOxFjYf"
      }
    },
    {
      "cell_type": "code",
      "source": [
        "df[\"actual_price\"].fillna(df[\"actual_price\"].median(),inplace=True)"
      ],
      "metadata": {
        "id": "ZmwVvDFTFjAq"
      },
      "execution_count": 463,
      "outputs": []
    },
    {
      "cell_type": "markdown",
      "source": [
        "To fill null values of discount_price, we will use ML algorithm"
      ],
      "metadata": {
        "id": "Jc9-hYoVFCzA"
      }
    },
    {
      "cell_type": "code",
      "source": [
        "df.columns"
      ],
      "metadata": {
        "colab": {
          "base_uri": "https://localhost:8080/"
        },
        "id": "eMt4heLgGPBy",
        "outputId": "85143c70-7459-45e4-c515-7eca23b96495"
      },
      "execution_count": 464,
      "outputs": [
        {
          "output_type": "execute_result",
          "data": {
            "text/plain": [
              "Index(['product_id', 'name', 'main_category', 'sub_category', 'ratings',\n",
              "       'no_of_ratings', 'discount_price', 'actual_price',\n",
              "       'log_of_no_of_ratings'],\n",
              "      dtype='object')"
            ]
          },
          "metadata": {},
          "execution_count": 464
        }
      ]
    },
    {
      "cell_type": "code",
      "source": [
        "sns.heatmap(df[['product_id', 'ratings',\n",
        "       'no_of_ratings', 'discount_price', 'actual_price',\n",
        "       'log_of_no_of_ratings']].corr(),yticklabels=True,cbar=False,cmap='viridis',annot=True)"
      ],
      "metadata": {
        "colab": {
          "base_uri": "https://localhost:8080/",
          "height": 575
        },
        "id": "PRR7W3dOF-_i",
        "outputId": "f082995c-2239-49a5-d451-b57c44a52e18"
      },
      "execution_count": 465,
      "outputs": [
        {
          "output_type": "execute_result",
          "data": {
            "text/plain": [
              "<Axes: >"
            ]
          },
          "metadata": {},
          "execution_count": 465
        },
        {
          "output_type": "display_data",
          "data": {
            "text/plain": [
              "<Figure size 640x480 with 1 Axes>"
            ],
            "image/png": "[encoded data removed]"
          },
          "metadata": {}
        }
      ]
    },
    {
      "cell_type": "markdown",
      "source": [
        "Discount_price is strongly corelated to actual_price"
      ],
      "metadata": {
        "id": "7MJl0EfoHcPh"
      }
    },
    {
      "cell_type": "code",
      "source": [
        "df.duplicated().value_counts()"
      ],
      "metadata": {
        "colab": {
          "base_uri": "https://localhost:8080/"
        },
        "id": "XnslYWEFKTJr",
        "outputId": "e23a29d5-e1db-4dc2-df0e-145a67621527"
      },
      "execution_count": 466,
      "outputs": [
        {
          "output_type": "execute_result",
          "data": {
            "text/plain": [
              "False    551585\n",
              "Name: count, dtype: int64"
            ]
          },
          "metadata": {},
          "execution_count": 466
        }
      ]
    },
    {
      "cell_type": "markdown",
      "source": [
        "Using Regression technique"
      ],
      "metadata": {
        "id": "_hMqmPxxIQbI"
      }
    },
    {
      "cell_type": "code",
      "source": [
        "df[df['discount_price']>df[\"actual_price\"]].head()"
      ],
      "metadata": {
        "colab": {
          "base_uri": "https://localhost:8080/",
          "height": 73
        },
        "id": "CYHXH0bIMxcx",
        "outputId": "eec53866-d93e-4796-84d3-c82b2a96ae04"
      },
      "execution_count": 467,
      "outputs": [
        {
          "output_type": "execute_result",
          "data": {
            "text/plain": [
              "Empty DataFrame\n",
              "Columns: [product_id, name, main_category, sub_category, ratings, no_of_ratings, discount_price, actual_price, log_of_no_of_ratings]\n",
              "Index: []"
            ],
            "text/html": [
              "\n",
              "  <div id=\"df-0c47fc22-6569-4d79-b72c-9a41e1675715\" class=\"colab-df-container\">\n",
              "    <div>\n",
              "<style scoped>\n",
              "    .dataframe tbody tr th:only-of-type {\n",
              "        vertical-align: middle;\n",
              "    }\n",
              "\n",
              "    .dataframe tbody tr th {\n",
              "        vertical-align: top;\n",
              "    }\n",
              "\n",
              "    .dataframe thead th {\n",
              "        text-align: right;\n",
              "    }\n",
              "</style>\n",
              "<table border=\"1\" class=\"dataframe\">\n",
              "  <thead>\n",
              "    <tr style=\"text-align: right;\">\n",
              "      <th></th>\n",
              "      <th>product_id</th>\n",
              "      <th>name</th>\n",
              "      <th>main_category</th>\n",
              "      <th>sub_category</th>\n",
              "      <th>ratings</th>\n",
              "      <th>no_of_ratings</th>\n",
              "      <th>discount_price</th>\n",
              "      <th>actual_price</th>\n",
              "      <th>log_of_no_of_ratings</th>\n",
              "    </tr>\n",
              "  </thead>\n",
              "  <tbody>\n",
              "  </tbody>\n",
              "</table>\n",
              "</div>\n",
              "    <div class=\"colab-df-buttons\">\n",
              "\n",
              "  <div class=\"colab-df-container\">\n",
              "    <button class=\"colab-df-convert\" onclick=\"convertToInteractive('df-0c47fc22-6569-4d79-b72c-9a41e1675715')\"\n",
              "            title=\"Convert this dataframe to an interactive table.\"\n",
              "            style=\"display:none;\">\n",
              "\n",
              "  <svg xmlns=\"http://www.w3.org/2000/svg\" height=\"24px\" viewBox=\"0 -960 960 960\">\n",
              "    <path d=\"M120-120v-720h720v720H120Zm60-500h600v-160H180v160Zm220 220h160v-160H400v160Zm0 220h160v-160H400v160ZM180-400h160v-160H180v160Zm440 0h160v-160H620v160ZM180-180h160v-160H180v160Zm440 0h160v-160H620v160Z\"/>\n",
              "  </svg>\n",
              "    </button>\n",
              "\n",
              "  <style>\n",
              "    .colab-df-container {\n",
              "      display:flex;\n",
              "      gap: 12px;\n",
              "    }\n",
              "\n",
              "    .colab-df-convert {\n",
              "      background-color: #E8F0FE;\n",
              "      border: none;\n",
              "      border-radius: 50%;\n",
              "      cursor: pointer;\n",
              "      display: none;\n",
              "      fill: #1967D2;\n",
              "      height: 32px;\n",
              "      padding: 0 0 0 0;\n",
              "      width: 32px;\n",
              "    }\n",
              "\n",
              "    .colab-df-convert:hover {\n",
              "      background-color: #E2EBFA;\n",
              "      box-shadow: 0px 1px 2px rgba(60, 64, 67, 0.3), 0px 1px 3px 1px rgba(60, 64, 67, 0.15);\n",
              "      fill: #174EA6;\n",
              "    }\n",
              "\n",
              "    .colab-df-buttons div {\n",
              "      margin-bottom: 4px;\n",
              "    }\n",
              "\n",
              "    [theme=dark] .colab-df-convert {\n",
              "      background-color: #3B4455;\n",
              "      fill: #D2E3FC;\n",
              "    }\n",
              "\n",
              "    [theme=dark] .colab-df-convert:hover {\n",
              "      background-color: #434B5C;\n",
              "      box-shadow: 0px 1px 3px 1px rgba(0, 0, 0, 0.15);\n",
              "      filter: drop-shadow(0px 1px 2px rgba(0, 0, 0, 0.3));\n",
              "      fill: #FFFFFF;\n",
              "    }\n",
              "  </style>\n",
              "\n",
              "    <script>\n",
              "      const buttonEl =\n",
              "        document.querySelector('#df-0c47fc22-6569-4d79-b72c-9a41e1675715 button.colab-df-convert');\n",
              "      buttonEl.style.display =\n",
              "        google.colab.kernel.accessAllowed ? 'block' : 'none';\n",
              "\n",
              "      async function convertToInteractive(key) {\n",
              "        const element = document.querySelector('#df-0c47fc22-6569-4d79-b72c-9a41e1675715');\n",
              "        const dataTable =\n",
              "          await google.colab.kernel.invokeFunction('convertToInteractive',\n",
              "                                                    [key], {});\n",
              "        if (!dataTable) return;\n",
              "\n",
              "        const docLinkHtml = 'Like what you see? Visit the ' +\n",
              "          '<a target=\"_blank\" href=https://colab.research.google.com/notebooks/data_table.ipynb>data table notebook</a>'\n",
              "          + ' to learn more about interactive tables.';\n",
              "        element.innerHTML = '';\n",
              "        dataTable['output_type'] = 'display_data';\n",
              "        await google.colab.output.renderOutput(dataTable, element);\n",
              "        const docLink = document.createElement('div');\n",
              "        docLink.innerHTML = docLinkHtml;\n",
              "        element.appendChild(docLink);\n",
              "      }\n",
              "    </script>\n",
              "  </div>\n",
              "\n",
              "\n",
              "    </div>\n",
              "  </div>\n"
            ],
            "application/vnd.google.colaboratory.intrinsic+json": {
              "type": "dataframe",
              "repr_error": "Out of range float values are not JSON compliant: nan"
            }
          },
          "metadata": {},
          "execution_count": 467
        }
      ]
    },
    {
      "cell_type": "code",
      "source": [
        "# # impute missing values with regression imputer\n",
        "# from sklearn.experimental import enable_iterative_imputer\n",
        "# from sklearn.impute import IterativeImputer\n",
        "\n",
        "# # call the IterativeImputer class with max_iter = 10\n",
        "# imputer = IterativeImputer(max_iter=10,initial_strategy='median',imputation_order='random')\n",
        "\n",
        "# #impute missing values with regression imputer\n",
        "# df['discount_price'] = imputer.fit_transform(df[['discount_price']])\n",
        "\n",
        "# # check the number of missing values in each column\n",
        "# df.isnull().sum().sort_values(ascending=False)"
      ],
      "metadata": {
        "id": "m-oErpoOH7IQ"
      },
      "execution_count": 468,
      "outputs": []
    },
    {
      "cell_type": "markdown",
      "source": [
        "Checking if imputation entered wrong results"
      ],
      "metadata": {
        "id": "IIpmcVfoKbrI"
      }
    },
    {
      "cell_type": "code",
      "source": [
        "# # impute missing values with KNN imputer\n",
        "# from sklearn.impute import KNNImputer\n",
        "\n",
        "# # call the KNN class with number of neighbors = 4\n",
        "# imputer = KNNImputer(n_neighbors=4)\n",
        "\n",
        "# #impute missing values with KNN imputer\n",
        "# df['discount_price'] = imputer.fit_transform(df[['discount_price']])\n",
        "\n",
        "# # check the number of missing values in each column\n",
        "# df.isnull().sum().sort_values(ascending=False)"
      ],
      "metadata": {
        "id": "UmjZqOFCMqMc"
      },
      "execution_count": 469,
      "outputs": []
    },
    {
      "cell_type": "code",
      "source": [
        "df.groupby([\"sub_category\"])[\"discount_price\"].median()"
      ],
      "metadata": {
        "colab": {
          "base_uri": "https://localhost:8080/"
        },
        "id": "WmVZrlE3IlmY",
        "outputId": "42301b26-a55e-4b6c-b18f-c73ee99a6223"
      },
      "execution_count": 470,
      "outputs": [
        {
          "output_type": "execute_result",
          "data": {
            "text/plain": [
              "sub_category\n",
              "Air Conditioners                39190.0\n",
              "All Appliances                    899.0\n",
              "All Car & Motorbike Products      419.0\n",
              "All Electronics                   580.5\n",
              "All Exercise & Fitness            499.0\n",
              "                                 ...   \n",
              "Washing Machines                10408.5\n",
              "Watches                           409.0\n",
              "Western Wear                      518.0\n",
              "Women's Fashion                   498.0\n",
              "Yoga                              699.0\n",
              "Name: discount_price, Length: 112, dtype: float64"
            ]
          },
          "metadata": {},
          "execution_count": 470
        }
      ]
    },
    {
      "cell_type": "markdown",
      "source": [
        "* Each sub_category of product has different discount_price , so imputing missing values as per the category of product"
      ],
      "metadata": {
        "id": "6YjPVQ-4UJ97"
      }
    },
    {
      "cell_type": "code",
      "source": [
        "# df['Rating'].median()\n",
        "median=df.groupby('sub_category')['discount_price'].median()\n",
        "df['discount_price'] = df.apply(lambda row: median[row['sub_category']] if pd.isna(row['discount_price']) else row['discount_price'], axis=1)"
      ],
      "metadata": {
        "id": "NGnKsIPEUIvL"
      },
      "execution_count": 481,
      "outputs": []
    },
    {
      "cell_type": "code",
      "source": [
        "df[df['discount_price']>df[\"actual_price\"]].__len__()/len(df)"
      ],
      "metadata": {
        "colab": {
          "base_uri": "https://localhost:8080/"
        },
        "id": "i1E9GQeGU6Z4",
        "outputId": "dbfe9be2-10cc-4249-e9ce-812bb4931c23"
      },
      "execution_count": 422,
      "outputs": [
        {
          "output_type": "execute_result",
          "data": {
            "text/plain": [
              "0.03155814606996202"
            ]
          },
          "metadata": {},
          "execution_count": 422
        }
      ]
    },
    {
      "cell_type": "markdown",
      "source": [
        "Insights time"
      ],
      "metadata": {
        "id": "5U9ZjFBfcPl1"
      }
    },
    {
      "cell_type": "code",
      "source": [
        "df.sample(4)"
      ],
      "metadata": {
        "colab": {
          "base_uri": "https://localhost:8080/",
          "height": 507
        },
        "id": "T-h5WlowPV1J",
        "outputId": "08eb0a7f-e18f-463f-9f4f-e161beb102fa"
      },
      "execution_count": 482,
      "outputs": [
        {
          "output_type": "execute_result",
          "data": {
            "text/plain": [
              "        product_id                                               name  \\\n",
              "261793        6730  AMS Mini 2.4Ghz 600Mbps USB WiFi Adapter 802.1...   \n",
              "539397       10228                  Amazon Brand - Symbol Women Dress   \n",
              "406775        1112  Spy Mission 720P Wireless Portable Surveillanc...   \n",
              "10585          289  WaveX Matte Bike Maintainer Combo | Wash, Clea...   \n",
              "\n",
              "              main_category                  sub_category  ratings  \\\n",
              "261793  tv, audio & cameras    Home Entertainment Systems      3.9   \n",
              "539397     women's clothing                  Western Wear      4.0   \n",
              "406775  tv, audio & cameras              Security Cameras      2.3   \n",
              "10585       car & motorbike  All Car & Motorbike Products      4.2   \n",
              "\n",
              "        no_of_ratings  discount_price  actual_price  log_of_no_of_ratings  \n",
              "261793           20.0           539.0        1499.0              2.995732  \n",
              "539397           54.0           663.0        2299.0              3.988984  \n",
              "406775            5.0          2999.0        3499.0              1.609438  \n",
              "10585           112.0           606.0        1038.0              4.718499  "
            ],
            "text/html": [
              "\n",
              "  <div id=\"df-bc6ac123-755b-4125-a9c9-15ab4f9ead32\" class=\"colab-df-container\">\n",
              "    <div>\n",
              "<style scoped>\n",
              "    .dataframe tbody tr th:only-of-type {\n",
              "        vertical-align: middle;\n",
              "    }\n",
              "\n",
              "    .dataframe tbody tr th {\n",
              "        vertical-align: top;\n",
              "    }\n",
              "\n",
              "    .dataframe thead th {\n",
              "        text-align: right;\n",
              "    }\n",
              "</style>\n",
              "<table border=\"1\" class=\"dataframe\">\n",
              "  <thead>\n",
              "    <tr style=\"text-align: right;\">\n",
              "      <th></th>\n",
              "      <th>product_id</th>\n",
              "      <th>name</th>\n",
              "      <th>main_category</th>\n",
              "      <th>sub_category</th>\n",
              "      <th>ratings</th>\n",
              "      <th>no_of_ratings</th>\n",
              "      <th>discount_price</th>\n",
              "      <th>actual_price</th>\n",
              "      <th>log_of_no_of_ratings</th>\n",
              "    </tr>\n",
              "  </thead>\n",
              "  <tbody>\n",
              "    <tr>\n",
              "      <th>261793</th>\n",
              "      <td>6730</td>\n",
              "      <td>AMS Mini 2.4Ghz 600Mbps USB WiFi Adapter 802.1...</td>\n",
              "      <td>tv, audio &amp; cameras</td>\n",
              "      <td>Home Entertainment Systems</td>\n",
              "      <td>3.9</td>\n",
              "      <td>20.0</td>\n",
              "      <td>539.0</td>\n",
              "      <td>1499.0</td>\n",
              "      <td>2.995732</td>\n",
              "    </tr>\n",
              "    <tr>\n",
              "      <th>539397</th>\n",
              "      <td>10228</td>\n",
              "      <td>Amazon Brand - Symbol Women Dress</td>\n",
              "      <td>women's clothing</td>\n",
              "      <td>Western Wear</td>\n",
              "      <td>4.0</td>\n",
              "      <td>54.0</td>\n",
              "      <td>663.0</td>\n",
              "      <td>2299.0</td>\n",
              "      <td>3.988984</td>\n",
              "    </tr>\n",
              "    <tr>\n",
              "      <th>406775</th>\n",
              "      <td>1112</td>\n",
              "      <td>Spy Mission 720P Wireless Portable Surveillanc...</td>\n",
              "      <td>tv, audio &amp; cameras</td>\n",
              "      <td>Security Cameras</td>\n",
              "      <td>2.3</td>\n",
              "      <td>5.0</td>\n",
              "      <td>2999.0</td>\n",
              "      <td>3499.0</td>\n",
              "      <td>1.609438</td>\n",
              "    </tr>\n",
              "    <tr>\n",
              "      <th>10585</th>\n",
              "      <td>289</td>\n",
              "      <td>WaveX Matte Bike Maintainer Combo | Wash, Clea...</td>\n",
              "      <td>car &amp; motorbike</td>\n",
              "      <td>All Car &amp; Motorbike Products</td>\n",
              "      <td>4.2</td>\n",
              "      <td>112.0</td>\n",
              "      <td>606.0</td>\n",
              "      <td>1038.0</td>\n",
              "      <td>4.718499</td>\n",
              "    </tr>\n",
              "  </tbody>\n",
              "</table>\n",
              "</div>\n",
              "    <div class=\"colab-df-buttons\">\n",
              "\n",
              "  <div class=\"colab-df-container\">\n",
              "    <button class=\"colab-df-convert\" onclick=\"convertToInteractive('df-bc6ac123-755b-4125-a9c9-15ab4f9ead32')\"\n",
              "            title=\"Convert this dataframe to an interactive table.\"\n",
              "            style=\"display:none;\">\n",
              "\n",
              "  <svg xmlns=\"http://www.w3.org/2000/svg\" height=\"24px\" viewBox=\"0 -960 960 960\">\n",
              "    <path d=\"M120-120v-720h720v720H120Zm60-500h600v-160H180v160Zm220 220h160v-160H400v160Zm0 220h160v-160H400v160ZM180-400h160v-160H180v160Zm440 0h160v-160H620v160ZM180-180h160v-160H180v160Zm440 0h160v-160H620v160Z\"/>\n",
              "  </svg>\n",
              "    </button>\n",
              "\n",
              "  <style>\n",
              "    .colab-df-container {\n",
              "      display:flex;\n",
              "      gap: 12px;\n",
              "    }\n",
              "\n",
              "    .colab-df-convert {\n",
              "      background-color: #E8F0FE;\n",
              "      border: none;\n",
              "      border-radius: 50%;\n",
              "      cursor: pointer;\n",
              "      display: none;\n",
              "      fill: #1967D2;\n",
              "      height: 32px;\n",
              "      padding: 0 0 0 0;\n",
              "      width: 32px;\n",
              "    }\n",
              "\n",
              "    .colab-df-convert:hover {\n",
              "      background-color: #E2EBFA;\n",
              "      box-shadow: 0px 1px 2px rgba(60, 64, 67, 0.3), 0px 1px 3px 1px rgba(60, 64, 67, 0.15);\n",
              "      fill: #174EA6;\n",
              "    }\n",
              "\n",
              "    .colab-df-buttons div {\n",
              "      margin-bottom: 4px;\n",
              "    }\n",
              "\n",
              "    [theme=dark] .colab-df-convert {\n",
              "      background-color: #3B4455;\n",
              "      fill: #D2E3FC;\n",
              "    }\n",
              "\n",
              "    [theme=dark] .colab-df-convert:hover {\n",
              "      background-color: #434B5C;\n",
              "      box-shadow: 0px 1px 3px 1px rgba(0, 0, 0, 0.15);\n",
              "      filter: drop-shadow(0px 1px 2px rgba(0, 0, 0, 0.3));\n",
              "      fill: #FFFFFF;\n",
              "    }\n",
              "  </style>\n",
              "\n",
              "    <script>\n",
              "      const buttonEl =\n",
              "        document.querySelector('#df-bc6ac123-755b-4125-a9c9-15ab4f9ead32 button.colab-df-convert');\n",
              "      buttonEl.style.display =\n",
              "        google.colab.kernel.accessAllowed ? 'block' : 'none';\n",
              "\n",
              "      async function convertToInteractive(key) {\n",
              "        const element = document.querySelector('#df-bc6ac123-755b-4125-a9c9-15ab4f9ead32');\n",
              "        const dataTable =\n",
              "          await google.colab.kernel.invokeFunction('convertToInteractive',\n",
              "                                                    [key], {});\n",
              "        if (!dataTable) return;\n",
              "\n",
              "        const docLinkHtml = 'Like what you see? Visit the ' +\n",
              "          '<a target=\"_blank\" href=https://colab.research.google.com/notebooks/data_table.ipynb>data table notebook</a>'\n",
              "          + ' to learn more about interactive tables.';\n",
              "        element.innerHTML = '';\n",
              "        dataTable['output_type'] = 'display_data';\n",
              "        await google.colab.output.renderOutput(dataTable, element);\n",
              "        const docLink = document.createElement('div');\n",
              "        docLink.innerHTML = docLinkHtml;\n",
              "        element.appendChild(docLink);\n",
              "      }\n",
              "    </script>\n",
              "  </div>\n",
              "\n",
              "\n",
              "<div id=\"df-5d5f5af6-92c0-4541-9d2f-3533c5c9dfae\">\n",
              "  <button class=\"colab-df-quickchart\" onclick=\"quickchart('df-5d5f5af6-92c0-4541-9d2f-3533c5c9dfae')\"\n",
              "            title=\"Suggest charts\"\n",
              "            style=\"display:none;\">\n",
              "\n",
              "<svg xmlns=\"http://www.w3.org/2000/svg\" height=\"24px\"viewBox=\"0 0 24 24\"\n",
              "     width=\"24px\">\n",
              "    <g>\n",
              "        <path d=\"M19 3H5c-1.1 0-2 .9-2 2v14c0 1.1.9 2 2 2h14c1.1 0 2-.9 2-2V5c0-1.1-.9-2-2-2zM9 17H7v-7h2v7zm4 0h-2V7h2v10zm4 0h-2v-4h2v4z\"/>\n",
              "    </g>\n",
              "</svg>\n",
              "  </button>\n",
              "\n",
              "<style>\n",
              "  .colab-df-quickchart {\n",
              "      --bg-color: #E8F0FE;\n",
              "      --fill-color: #1967D2;\n",
              "      --hover-bg-color: #E2EBFA;\n",
              "      --hover-fill-color: #174EA6;\n",
              "      --disabled-fill-color: #AAA;\n",
              "      --disabled-bg-color: #DDD;\n",
              "  }\n",
              "\n",
              "  [theme=dark] .colab-df-quickchart {\n",
              "      --bg-color: #3B4455;\n",
              "      --fill-color: #D2E3FC;\n",
              "      --hover-bg-color: #434B5C;\n",
              "      --hover-fill-color: #FFFFFF;\n",
              "      --disabled-bg-color: #3B4455;\n",
              "      --disabled-fill-color: #666;\n",
              "  }\n",
              "\n",
              "  .colab-df-quickchart {\n",
              "    background-color: var(--bg-color);\n",
              "    border: none;\n",
              "    border-radius: 50%;\n",
              "    cursor: pointer;\n",
              "    display: none;\n",
              "    fill: var(--fill-color);\n",
              "    height: 32px;\n",
              "    padding: 0;\n",
              "    width: 32px;\n",
              "  }\n",
              "\n",
              "  .colab-df-quickchart:hover {\n",
              "    background-color: var(--hover-bg-color);\n",
              "    box-shadow: 0 1px 2px rgba(60, 64, 67, 0.3), 0 1px 3px 1px rgba(60, 64, 67, 0.15);\n",
              "    fill: var(--button-hover-fill-color);\n",
              "  }\n",
              "\n",
              "  .colab-df-quickchart-complete:disabled,\n",
              "  .colab-df-quickchart-complete:disabled:hover {\n",
              "    background-color: var(--disabled-bg-color);\n",
              "    fill: var(--disabled-fill-color);\n",
              "    box-shadow: none;\n",
              "  }\n",
              "\n",
              "  .colab-df-spinner {\n",
              "    border: 2px solid var(--fill-color);\n",
              "    border-color: transparent;\n",
              "    border-bottom-color: var(--fill-color);\n",
              "    animation:\n",
              "      spin 1s steps(1) infinite;\n",
              "  }\n",
              "\n",
              "  @keyframes spin {\n",
              "    0% {\n",
              "      border-color: transparent;\n",
              "      border-bottom-color: var(--fill-color);\n",
              "      border-left-color: var(--fill-color);\n",
              "    }\n",
              "    20% {\n",
              "      border-color: transparent;\n",
              "      border-left-color: var(--fill-color);\n",
              "      border-top-color: var(--fill-color);\n",
              "    }\n",
              "    30% {\n",
              "      border-color: transparent;\n",
              "      border-left-color: var(--fill-color);\n",
              "      border-top-color: var(--fill-color);\n",
              "      border-right-color: var(--fill-color);\n",
              "    }\n",
              "    40% {\n",
              "      border-color: transparent;\n",
              "      border-right-color: var(--fill-color);\n",
              "      border-top-color: var(--fill-color);\n",
              "    }\n",
              "    60% {\n",
              "      border-color: transparent;\n",
              "      border-right-color: var(--fill-color);\n",
              "    }\n",
              "    80% {\n",
              "      border-color: transparent;\n",
              "      border-right-color: var(--fill-color);\n",
              "      border-bottom-color: var(--fill-color);\n",
              "    }\n",
              "    90% {\n",
              "      border-color: transparent;\n",
              "      border-bottom-color: var(--fill-color);\n",
              "    }\n",
              "  }\n",
              "</style>\n",
              "\n",
              "  <script>\n",
              "    async function quickchart(key) {\n",
              "      const quickchartButtonEl =\n",
              "        document.querySelector('#' + key + ' button');\n",
              "      quickchartButtonEl.disabled = true;  // To prevent multiple clicks.\n",
              "      quickchartButtonEl.classList.add('colab-df-spinner');\n",
              "      try {\n",
              "        const charts = await google.colab.kernel.invokeFunction(\n",
              "            'suggestCharts', [key], {});\n",
              "      } catch (error) {\n",
              "        console.error('Error during call to suggestCharts:', error);\n",
              "      }\n",
              "      quickchartButtonEl.classList.remove('colab-df-spinner');\n",
              "      quickchartButtonEl.classList.add('colab-df-quickchart-complete');\n",
              "    }\n",
              "    (() => {\n",
              "      let quickchartButtonEl =\n",
              "        document.querySelector('#df-5d5f5af6-92c0-4541-9d2f-3533c5c9dfae button');\n",
              "      quickchartButtonEl.style.display =\n",
              "        google.colab.kernel.accessAllowed ? 'block' : 'none';\n",
              "    })();\n",
              "  </script>\n",
              "</div>\n",
              "\n",
              "    </div>\n",
              "  </div>\n"
            ],
            "application/vnd.google.colaboratory.intrinsic+json": {
              "type": "dataframe",
              "summary": "{\n  \"name\": \"df\",\n  \"rows\": 4,\n  \"fields\": [\n    {\n      \"column\": \"product_id\",\n      \"properties\": {\n        \"dtype\": \"number\",\n        \"std\": 4724,\n        \"min\": 289,\n        \"max\": 10228,\n        \"num_unique_values\": 4,\n        \"samples\": [\n          10228,\n          289,\n          6730\n        ],\n        \"semantic_type\": \"\",\n        \"description\": \"\"\n      }\n    },\n    {\n      \"column\": \"name\",\n      \"properties\": {\n        \"dtype\": \"string\",\n        \"num_unique_values\": 4,\n        \"samples\": [\n          \"Amazon Brand - Symbol Women Dress\",\n          \"WaveX Matte Bike Maintainer Combo | Wash, Clean, Protect and Maintain Matte Bikes and Cars | Consists of Matte Wash Shampo...\",\n          \"AMS Mini 2.4Ghz 600Mbps USB WiFi Adapter 802.11b Compatible with Desktop, Laptop, PC. (AMS-ADP-0174)\"\n        ],\n        \"semantic_type\": \"\",\n        \"description\": \"\"\n      }\n    },\n    {\n      \"column\": \"main_category\",\n      \"properties\": {\n        \"dtype\": \"string\",\n        \"num_unique_values\": 3,\n        \"samples\": [\n          \"tv, audio & cameras\",\n          \"women's clothing\",\n          \"car & motorbike\"\n        ],\n        \"semantic_type\": \"\",\n        \"description\": \"\"\n      }\n    },\n    {\n      \"column\": \"sub_category\",\n      \"properties\": {\n        \"dtype\": \"string\",\n        \"num_unique_values\": 4,\n        \"samples\": [\n          \"Western Wear\",\n          \"All Car & Motorbike Products\",\n          \"Home Entertainment Systems\"\n        ],\n        \"semantic_type\": \"\",\n        \"description\": \"\"\n      }\n    },\n    {\n      \"column\": \"ratings\",\n      \"properties\": {\n        \"dtype\": \"number\",\n        \"std\": 0.8755950357709134,\n        \"min\": 2.3,\n        \"max\": 4.2,\n        \"num_unique_values\": 4,\n        \"samples\": [\n          4.0,\n          4.2,\n          3.9\n        ],\n        \"semantic_type\": \"\",\n        \"description\": \"\"\n      }\n    },\n    {\n      \"column\": \"no_of_ratings\",\n      \"properties\": {\n        \"dtype\": \"number\",\n        \"std\": 47.4859628381553,\n        \"min\": 5.0,\n        \"max\": 112.0,\n        \"num_unique_values\": 4,\n        \"samples\": [\n          54.0,\n          112.0,\n          20.0\n        ],\n        \"semantic_type\": \"\",\n        \"description\": \"\"\n      }\n    },\n    {\n      \"column\": \"discount_price\",\n      \"properties\": {\n        \"dtype\": \"number\",\n        \"std\": 1199.237917734981,\n        \"min\": 539.0,\n        \"max\": 2999.0,\n        \"num_unique_values\": 4,\n        \"samples\": [\n          663.0,\n          606.0,\n          539.0\n        ],\n        \"semantic_type\": \"\",\n        \"description\": \"\"\n      }\n    },\n    {\n      \"column\": \"actual_price\",\n      \"properties\": {\n        \"dtype\": \"number\",\n        \"std\": 1077.7740564082376,\n        \"min\": 1038.0,\n        \"max\": 3499.0,\n        \"num_unique_values\": 4,\n        \"samples\": [\n          2299.0,\n          1038.0,\n          1499.0\n        ],\n        \"semantic_type\": \"\",\n        \"description\": \"\"\n      }\n    },\n    {\n      \"column\": \"log_of_no_of_ratings\",\n      \"properties\": {\n        \"dtype\": \"number\",\n        \"std\": 1.3458881089087258,\n        \"min\": 1.6094379124341003,\n        \"max\": 4.718498871295094,\n        \"num_unique_values\": 4,\n        \"samples\": [\n          3.9889840465642745,\n          4.718498871295094,\n          2.995732273553991\n        ],\n        \"semantic_type\": \"\",\n        \"description\": \"\"\n      }\n    }\n  ]\n}"
            }
          },
          "metadata": {},
          "execution_count": 482
        }
      ]
    },
    {
      "cell_type": "markdown",
      "source": [
        "Top 5 Products with the lowest discount price"
      ],
      "metadata": {
        "id": "NPXPnO7Nccqk"
      }
    },
    {
      "cell_type": "code",
      "source": [
        "df.sort_values(by='discount_price').head(5)"
      ],
      "metadata": {
        "colab": {
          "base_uri": "https://localhost:8080/",
          "height": 469
        },
        "id": "BkKBUlbHckpG",
        "outputId": "af9984d1-83ec-4206-e932-3a39ac85eb2a"
      },
      "execution_count": 487,
      "outputs": [
        {
          "output_type": "execute_result",
          "data": {
            "text/plain": [
              "        product_id                                               name  \\\n",
              "124233         849               BRU Instant Coffee Sachet,Ground, 8g   \n",
              "437600          17         Kurkure Yummy Cheese Puffcorn Namkeen, 28g   \n",
              "437916         333  Cadbury Oreo Original Vanilla Creme Biscuit, 4...   \n",
              "268602         291                           Rin Detergent Bar - 165g   \n",
              "437604          21  Lay's Potato Chips 24g/27g, West Indies Hot 'n...   \n",
              "\n",
              "                  main_category             sub_category  ratings  \\\n",
              "124233  grocery & gourmet foods  Coffee, Tea & Beverages      4.0   \n",
              "437600  grocery & gourmet foods              Snack Foods      4.4   \n",
              "437916  grocery & gourmet foods              Snack Foods      4.4   \n",
              "268602          beauty & health       Household Supplies      4.0   \n",
              "437604  grocery & gourmet foods              Snack Foods      4.3   \n",
              "\n",
              "        no_of_ratings  discount_price  actual_price  log_of_no_of_ratings  \n",
              "124233            7.0             8.0          10.0              1.945910  \n",
              "437600         1485.0             9.0          10.0              7.303170  \n",
              "437916         1353.0             9.0          10.0              7.210080  \n",
              "268602           44.0             9.0          10.0              3.784190  \n",
              "437604          864.0             9.0          10.0              6.761573  "
            ],
            "text/html": [
              "\n",
              "  <div id=\"df-79cfe320-c7e8-446f-9cb0-c8897a54d190\" class=\"colab-df-container\">\n",
              "    <div>\n",
              "<style scoped>\n",
              "    .dataframe tbody tr th:only-of-type {\n",
              "        vertical-align: middle;\n",
              "    }\n",
              "\n",
              "    .dataframe tbody tr th {\n",
              "        vertical-align: top;\n",
              "    }\n",
              "\n",
              "    .dataframe thead th {\n",
              "        text-align: right;\n",
              "    }\n",
              "</style>\n",
              "<table border=\"1\" class=\"dataframe\">\n",
              "  <thead>\n",
              "    <tr style=\"text-align: right;\">\n",
              "      <th></th>\n",
              "      <th>product_id</th>\n",
              "      <th>name</th>\n",
              "      <th>main_category</th>\n",
              "      <th>sub_category</th>\n",
              "      <th>ratings</th>\n",
              "      <th>no_of_ratings</th>\n",
              "      <th>discount_price</th>\n",
              "      <th>actual_price</th>\n",
              "      <th>log_of_no_of_ratings</th>\n",
              "    </tr>\n",
              "  </thead>\n",
              "  <tbody>\n",
              "    <tr>\n",
              "      <th>124233</th>\n",
              "      <td>849</td>\n",
              "      <td>BRU Instant Coffee Sachet,Ground, 8g</td>\n",
              "      <td>grocery &amp; gourmet foods</td>\n",
              "      <td>Coffee, Tea &amp; Beverages</td>\n",
              "      <td>4.0</td>\n",
              "      <td>7.0</td>\n",
              "      <td>8.0</td>\n",
              "      <td>10.0</td>\n",
              "      <td>1.945910</td>\n",
              "    </tr>\n",
              "    <tr>\n",
              "      <th>437600</th>\n",
              "      <td>17</td>\n",
              "      <td>Kurkure Yummy Cheese Puffcorn Namkeen, 28g</td>\n",
              "      <td>grocery &amp; gourmet foods</td>\n",
              "      <td>Snack Foods</td>\n",
              "      <td>4.4</td>\n",
              "      <td>1485.0</td>\n",
              "      <td>9.0</td>\n",
              "      <td>10.0</td>\n",
              "      <td>7.303170</td>\n",
              "    </tr>\n",
              "    <tr>\n",
              "      <th>437916</th>\n",
              "      <td>333</td>\n",
              "      <td>Cadbury Oreo Original Vanilla Creme Biscuit, 4...</td>\n",
              "      <td>grocery &amp; gourmet foods</td>\n",
              "      <td>Snack Foods</td>\n",
              "      <td>4.4</td>\n",
              "      <td>1353.0</td>\n",
              "      <td>9.0</td>\n",
              "      <td>10.0</td>\n",
              "      <td>7.210080</td>\n",
              "    </tr>\n",
              "    <tr>\n",
              "      <th>268602</th>\n",
              "      <td>291</td>\n",
              "      <td>Rin Detergent Bar - 165g</td>\n",
              "      <td>beauty &amp; health</td>\n",
              "      <td>Household Supplies</td>\n",
              "      <td>4.0</td>\n",
              "      <td>44.0</td>\n",
              "      <td>9.0</td>\n",
              "      <td>10.0</td>\n",
              "      <td>3.784190</td>\n",
              "    </tr>\n",
              "    <tr>\n",
              "      <th>437604</th>\n",
              "      <td>21</td>\n",
              "      <td>Lay's Potato Chips 24g/27g, West Indies Hot 'n...</td>\n",
              "      <td>grocery &amp; gourmet foods</td>\n",
              "      <td>Snack Foods</td>\n",
              "      <td>4.3</td>\n",
              "      <td>864.0</td>\n",
              "      <td>9.0</td>\n",
              "      <td>10.0</td>\n",
              "      <td>6.761573</td>\n",
              "    </tr>\n",
              "  </tbody>\n",
              "</table>\n",
              "</div>\n",
              "    <div class=\"colab-df-buttons\">\n",
              "\n",
              "  <div class=\"colab-df-container\">\n",
              "    <button class=\"colab-df-convert\" onclick=\"convertToInteractive('df-79cfe320-c7e8-446f-9cb0-c8897a54d190')\"\n",
              "            title=\"Convert this dataframe to an interactive table.\"\n",
              "            style=\"display:none;\">\n",
              "\n",
              "  <svg xmlns=\"http://www.w3.org/2000/svg\" height=\"24px\" viewBox=\"0 -960 960 960\">\n",
              "    <path d=\"M120-120v-720h720v720H120Zm60-500h600v-160H180v160Zm220 220h160v-160H400v160Zm0 220h160v-160H400v160ZM180-400h160v-160H180v160Zm440 0h160v-160H620v160ZM180-180h160v-160H180v160Zm440 0h160v-160H620v160Z\"/>\n",
              "  </svg>\n",
              "    </button>\n",
              "\n",
              "  <style>\n",
              "    .colab-df-container {\n",
              "      display:flex;\n",
              "      gap: 12px;\n",
              "    }\n",
              "\n",
              "    .colab-df-convert {\n",
              "      background-color: #E8F0FE;\n",
              "      border: none;\n",
              "      border-radius: 50%;\n",
              "      cursor: pointer;\n",
              "      display: none;\n",
              "      fill: #1967D2;\n",
              "      height: 32px;\n",
              "      padding: 0 0 0 0;\n",
              "      width: 32px;\n",
              "    }\n",
              "\n",
              "    .colab-df-convert:hover {\n",
              "      background-color: #E2EBFA;\n",
              "      box-shadow: 0px 1px 2px rgba(60, 64, 67, 0.3), 0px 1px 3px 1px rgba(60, 64, 67, 0.15);\n",
              "      fill: #174EA6;\n",
              "    }\n",
              "\n",
              "    .colab-df-buttons div {\n",
              "      margin-bottom: 4px;\n",
              "    }\n",
              "\n",
              "    [theme=dark] .colab-df-convert {\n",
              "      background-color: #3B4455;\n",
              "      fill: #D2E3FC;\n",
              "    }\n",
              "\n",
              "    [theme=dark] .colab-df-convert:hover {\n",
              "      background-color: #434B5C;\n",
              "      box-shadow: 0px 1px 3px 1px rgba(0, 0, 0, 0.15);\n",
              "      filter: drop-shadow(0px 1px 2px rgba(0, 0, 0, 0.3));\n",
              "      fill: #FFFFFF;\n",
              "    }\n",
              "  </style>\n",
              "\n",
              "    <script>\n",
              "      const buttonEl =\n",
              "        document.querySelector('#df-79cfe320-c7e8-446f-9cb0-c8897a54d190 button.colab-df-convert');\n",
              "      buttonEl.style.display =\n",
              "        google.colab.kernel.accessAllowed ? 'block' : 'none';\n",
              "\n",
              "      async function convertToInteractive(key) {\n",
              "        const element = document.querySelector('#df-79cfe320-c7e8-446f-9cb0-c8897a54d190');\n",
              "        const dataTable =\n",
              "          await google.colab.kernel.invokeFunction('convertToInteractive',\n",
              "                                                    [key], {});\n",
              "        if (!dataTable) return;\n",
              "\n",
              "        const docLinkHtml = 'Like what you see? Visit the ' +\n",
              "          '<a target=\"_blank\" href=https://colab.research.google.com/notebooks/data_table.ipynb>data table notebook</a>'\n",
              "          + ' to learn more about interactive tables.';\n",
              "        element.innerHTML = '';\n",
              "        dataTable['output_type'] = 'display_data';\n",
              "        await google.colab.output.renderOutput(dataTable, element);\n",
              "        const docLink = document.createElement('div');\n",
              "        docLink.innerHTML = docLinkHtml;\n",
              "        element.appendChild(docLink);\n",
              "      }\n",
              "    </script>\n",
              "  </div>\n",
              "\n",
              "\n",
              "<div id=\"df-802bad3f-176c-48fb-ba2e-ac8eba19b470\">\n",
              "  <button class=\"colab-df-quickchart\" onclick=\"quickchart('df-802bad3f-176c-48fb-ba2e-ac8eba19b470')\"\n",
              "            title=\"Suggest charts\"\n",
              "            style=\"display:none;\">\n",
              "\n",
              "<svg xmlns=\"http://www.w3.org/2000/svg\" height=\"24px\"viewBox=\"0 0 24 24\"\n",
              "     width=\"24px\">\n",
              "    <g>\n",
              "        <path d=\"M19 3H5c-1.1 0-2 .9-2 2v14c0 1.1.9 2 2 2h14c1.1 0 2-.9 2-2V5c0-1.1-.9-2-2-2zM9 17H7v-7h2v7zm4 0h-2V7h2v10zm4 0h-2v-4h2v4z\"/>\n",
              "    </g>\n",
              "</svg>\n",
              "  </button>\n",
              "\n",
              "<style>\n",
              "  .colab-df-quickchart {\n",
              "      --bg-color: #E8F0FE;\n",
              "      --fill-color: #1967D2;\n",
              "      --hover-bg-color: #E2EBFA;\n",
              "      --hover-fill-color: #174EA6;\n",
              "      --disabled-fill-color: #AAA;\n",
              "      --disabled-bg-color: #DDD;\n",
              "  }\n",
              "\n",
              "  [theme=dark] .colab-df-quickchart {\n",
              "      --bg-color: #3B4455;\n",
              "      --fill-color: #D2E3FC;\n",
              "      --hover-bg-color: #434B5C;\n",
              "      --hover-fill-color: #FFFFFF;\n",
              "      --disabled-bg-color: #3B4455;\n",
              "      --disabled-fill-color: #666;\n",
              "  }\n",
              "\n",
              "  .colab-df-quickchart {\n",
              "    background-color: var(--bg-color);\n",
              "    border: none;\n",
              "    border-radius: 50%;\n",
              "    cursor: pointer;\n",
              "    display: none;\n",
              "    fill: var(--fill-color);\n",
              "    height: 32px;\n",
              "    padding: 0;\n",
              "    width: 32px;\n",
              "  }\n",
              "\n",
              "  .colab-df-quickchart:hover {\n",
              "    background-color: var(--hover-bg-color);\n",
              "    box-shadow: 0 1px 2px rgba(60, 64, 67, 0.3), 0 1px 3px 1px rgba(60, 64, 67, 0.15);\n",
              "    fill: var(--button-hover-fill-color);\n",
              "  }\n",
              "\n",
              "  .colab-df-quickchart-complete:disabled,\n",
              "  .colab-df-quickchart-complete:disabled:hover {\n",
              "    background-color: var(--disabled-bg-color);\n",
              "    fill: var(--disabled-fill-color);\n",
              "    box-shadow: none;\n",
              "  }\n",
              "\n",
              "  .colab-df-spinner {\n",
              "    border: 2px solid var(--fill-color);\n",
              "    border-color: transparent;\n",
              "    border-bottom-color: var(--fill-color);\n",
              "    animation:\n",
              "      spin 1s steps(1) infinite;\n",
              "  }\n",
              "\n",
              "  @keyframes spin {\n",
              "    0% {\n",
              "      border-color: transparent;\n",
              "      border-bottom-color: var(--fill-color);\n",
              "      border-left-color: var(--fill-color);\n",
              "    }\n",
              "    20% {\n",
              "      border-color: transparent;\n",
              "      border-left-color: var(--fill-color);\n",
              "      border-top-color: var(--fill-color);\n",
              "    }\n",
              "    30% {\n",
              "      border-color: transparent;\n",
              "      border-left-color: var(--fill-color);\n",
              "      border-top-color: var(--fill-color);\n",
              "      border-right-color: var(--fill-color);\n",
              "    }\n",
              "    40% {\n",
              "      border-color: transparent;\n",
              "      border-right-color: var(--fill-color);\n",
              "      border-top-color: var(--fill-color);\n",
              "    }\n",
              "    60% {\n",
              "      border-color: transparent;\n",
              "      border-right-color: var(--fill-color);\n",
              "    }\n",
              "    80% {\n",
              "      border-color: transparent;\n",
              "      border-right-color: var(--fill-color);\n",
              "      border-bottom-color: var(--fill-color);\n",
              "    }\n",
              "    90% {\n",
              "      border-color: transparent;\n",
              "      border-bottom-color: var(--fill-color);\n",
              "    }\n",
              "  }\n",
              "</style>\n",
              "\n",
              "  <script>\n",
              "    async function quickchart(key) {\n",
              "      const quickchartButtonEl =\n",
              "        document.querySelector('#' + key + ' button');\n",
              "      quickchartButtonEl.disabled = true;  // To prevent multiple clicks.\n",
              "      quickchartButtonEl.classList.add('colab-df-spinner');\n",
              "      try {\n",
              "        const charts = await google.colab.kernel.invokeFunction(\n",
              "            'suggestCharts', [key], {});\n",
              "      } catch (error) {\n",
              "        console.error('Error during call to suggestCharts:', error);\n",
              "      }\n",
              "      quickchartButtonEl.classList.remove('colab-df-spinner');\n",
              "      quickchartButtonEl.classList.add('colab-df-quickchart-complete');\n",
              "    }\n",
              "    (() => {\n",
              "      let quickchartButtonEl =\n",
              "        document.querySelector('#df-802bad3f-176c-48fb-ba2e-ac8eba19b470 button');\n",
              "      quickchartButtonEl.style.display =\n",
              "        google.colab.kernel.accessAllowed ? 'block' : 'none';\n",
              "    })();\n",
              "  </script>\n",
              "</div>\n",
              "\n",
              "    </div>\n",
              "  </div>\n"
            ],
            "application/vnd.google.colaboratory.intrinsic+json": {
              "type": "dataframe",
              "summary": "{\n  \"name\": \"df\",\n  \"rows\": 5,\n  \"fields\": [\n    {\n      \"column\": \"product_id\",\n      \"properties\": {\n        \"dtype\": \"number\",\n        \"std\": 339,\n        \"min\": 17,\n        \"max\": 849,\n        \"num_unique_values\": 5,\n        \"samples\": [\n          17,\n          21,\n          333\n        ],\n        \"semantic_type\": \"\",\n        \"description\": \"\"\n      }\n    },\n    {\n      \"column\": \"name\",\n      \"properties\": {\n        \"dtype\": \"string\",\n        \"num_unique_values\": 5,\n        \"samples\": [\n          \"Kurkure Yummy Cheese Puffcorn Namkeen, 28g\",\n          \"Lay's Potato Chips 24g/27g, West Indies Hot 'n' Sweet Chilli flavour, Crunchy Chips & Snacks (weight may vary )\",\n          \"Cadbury Oreo Original Vanilla Creme Biscuit, 46.3g\"\n        ],\n        \"semantic_type\": \"\",\n        \"description\": \"\"\n      }\n    },\n    {\n      \"column\": \"main_category\",\n      \"properties\": {\n        \"dtype\": \"category\",\n        \"num_unique_values\": 2,\n        \"samples\": [\n          \"beauty & health\",\n          \"grocery & gourmet foods\"\n        ],\n        \"semantic_type\": \"\",\n        \"description\": \"\"\n      }\n    },\n    {\n      \"column\": \"sub_category\",\n      \"properties\": {\n        \"dtype\": \"string\",\n        \"num_unique_values\": 3,\n        \"samples\": [\n          \"Coffee, Tea & Beverages\",\n          \"Snack Foods\"\n        ],\n        \"semantic_type\": \"\",\n        \"description\": \"\"\n      }\n    },\n    {\n      \"column\": \"ratings\",\n      \"properties\": {\n        \"dtype\": \"number\",\n        \"std\": 0.20493901531919212,\n        \"min\": 4.0,\n        \"max\": 4.4,\n        \"num_unique_values\": 3,\n        \"samples\": [\n          4.0,\n          4.4\n        ],\n        \"semantic_type\": \"\",\n        \"description\": \"\"\n      }\n    },\n    {\n      \"column\": \"no_of_ratings\",\n      \"properties\": {\n        \"dtype\": \"number\",\n        \"std\": 701.3047126606237,\n        \"min\": 7.0,\n        \"max\": 1485.0,\n        \"num_unique_values\": 5,\n        \"samples\": [\n          1485.0,\n          864.0\n        ],\n        \"semantic_type\": \"\",\n        \"description\": \"\"\n      }\n    },\n    {\n      \"column\": \"discount_price\",\n      \"properties\": {\n        \"dtype\": \"number\",\n        \"std\": 0.4472135954999579,\n        \"min\": 8.0,\n        \"max\": 9.0,\n        \"num_unique_values\": 2,\n        \"samples\": [\n          9.0,\n          8.0\n        ],\n        \"semantic_type\": \"\",\n        \"description\": \"\"\n      }\n    },\n    {\n      \"column\": \"actual_price\",\n      \"properties\": {\n        \"dtype\": \"number\",\n        \"std\": 0.0,\n        \"min\": 10.0,\n        \"max\": 10.0,\n        \"num_unique_values\": 1,\n        \"samples\": [\n          10.0\n        ],\n        \"semantic_type\": \"\",\n        \"description\": \"\"\n      }\n    },\n    {\n      \"column\": \"log_of_no_of_ratings\",\n      \"properties\": {\n        \"dtype\": \"number\",\n        \"std\": 2.4131877206744945,\n        \"min\": 1.9459101490553132,\n        \"max\": 7.3031700512368,\n        \"num_unique_values\": 5,\n        \"samples\": [\n          7.3031700512368\n        ],\n        \"semantic_type\": \"\",\n        \"description\": \"\"\n      }\n    }\n  ]\n}"
            }
          },
          "metadata": {},
          "execution_count": 487
        }
      ]
    },
    {
      "cell_type": "markdown",
      "source": [
        "Top 5 Products that are most expensive"
      ],
      "metadata": {
        "id": "uQEjVkzcd_e6"
      }
    },
    {
      "cell_type": "code",
      "source": [
        "df.sort_values(by='discount_price').tail(5)"
      ],
      "metadata": {
        "colab": {
          "base_uri": "https://localhost:8080/",
          "height": 781
        },
        "id": "NvYnVd3EdzX_",
        "outputId": "b399610d-1936-4535-839a-bf14027bb6cb"
      },
      "execution_count": 488,
      "outputs": [
        {
          "output_type": "execute_result",
          "data": {
            "text/plain": [
              "        product_id                                               name  \\\n",
              "310760         185  USPTO 2.85 Carat Real GIA Certifed Diamond Loo...   \n",
              "197464        2588  PC Jeweller 18k (750) Yellow Gold and Solitair...   \n",
              "149498         122  Venus Gems Gallery Real Diamond Ring 2 Carat O...   \n",
              "310622          47  Venus Gems Gallery Real Diamond Ring 2 Carat O...   \n",
              "498818         584  Samsung 214 cm (85 inches) 8K Ultra HD Smart N...   \n",
              "\n",
              "              main_category                sub_category  ratings  \\\n",
              "310760          accessories                   Jewellery      3.9   \n",
              "197464          accessories    Gold & Diamond Jewellery      3.9   \n",
              "149498          accessories  Fashion & Silver Jewellery      3.9   \n",
              "310622          accessories                   Jewellery      3.9   \n",
              "498818  tv, audio & cameras                 Televisions      4.0   \n",
              "\n",
              "        no_of_ratings  discount_price  actual_price  log_of_no_of_ratings  \n",
              "310760           20.0        459999.0      920000.0              2.995732  \n",
              "197464           20.0        468012.0      550602.0              2.995732  \n",
              "149498           20.0        499999.0     1000000.0              2.995732  \n",
              "310622           20.0        499999.0     1000000.0              2.995732  \n",
              "498818           10.0       1249990.0     1594900.0              2.302585  "
            ],
            "text/html": [
              "\n",
              "  <div id=\"df-30ccadc2-5118-4e5f-b4db-975aa36fa87e\" class=\"colab-df-container\">\n",
              "    <div>\n",
              "<style scoped>\n",
              "    .dataframe tbody tr th:only-of-type {\n",
              "        vertical-align: middle;\n",
              "    }\n",
              "\n",
              "    .dataframe tbody tr th {\n",
              "        vertical-align: top;\n",
              "    }\n",
              "\n",
              "    .dataframe thead th {\n",
              "        text-align: right;\n",
              "    }\n",
              "</style>\n",
              "<table border=\"1\" class=\"dataframe\">\n",
              "  <thead>\n",
              "    <tr style=\"text-align: right;\">\n",
              "      <th></th>\n",
              "      <th>product_id</th>\n",
              "      <th>name</th>\n",
              "      <th>main_category</th>\n",
              "      <th>sub_category</th>\n",
              "      <th>ratings</th>\n",
              "      <th>no_of_ratings</th>\n",
              "      <th>discount_price</th>\n",
              "      <th>actual_price</th>\n",
              "      <th>log_of_no_of_ratings</th>\n",
              "    </tr>\n",
              "  </thead>\n",
              "  <tbody>\n",
              "    <tr>\n",
              "      <th>310760</th>\n",
              "      <td>185</td>\n",
              "      <td>USPTO 2.85 Carat Real GIA Certifed Diamond Loo...</td>\n",
              "      <td>accessories</td>\n",
              "      <td>Jewellery</td>\n",
              "      <td>3.9</td>\n",
              "      <td>20.0</td>\n",
              "      <td>459999.0</td>\n",
              "      <td>920000.0</td>\n",
              "      <td>2.995732</td>\n",
              "    </tr>\n",
              "    <tr>\n",
              "      <th>197464</th>\n",
              "      <td>2588</td>\n",
              "      <td>PC Jeweller 18k (750) Yellow Gold and Solitair...</td>\n",
              "      <td>accessories</td>\n",
              "      <td>Gold &amp; Diamond Jewellery</td>\n",
              "      <td>3.9</td>\n",
              "      <td>20.0</td>\n",
              "      <td>468012.0</td>\n",
              "      <td>550602.0</td>\n",
              "      <td>2.995732</td>\n",
              "    </tr>\n",
              "    <tr>\n",
              "      <th>149498</th>\n",
              "      <td>122</td>\n",
              "      <td>Venus Gems Gallery Real Diamond Ring 2 Carat O...</td>\n",
              "      <td>accessories</td>\n",
              "      <td>Fashion &amp; Silver Jewellery</td>\n",
              "      <td>3.9</td>\n",
              "      <td>20.0</td>\n",
              "      <td>499999.0</td>\n",
              "      <td>1000000.0</td>\n",
              "      <td>2.995732</td>\n",
              "    </tr>\n",
              "    <tr>\n",
              "      <th>310622</th>\n",
              "      <td>47</td>\n",
              "      <td>Venus Gems Gallery Real Diamond Ring 2 Carat O...</td>\n",
              "      <td>accessories</td>\n",
              "      <td>Jewellery</td>\n",
              "      <td>3.9</td>\n",
              "      <td>20.0</td>\n",
              "      <td>499999.0</td>\n",
              "      <td>1000000.0</td>\n",
              "      <td>2.995732</td>\n",
              "    </tr>\n",
              "    <tr>\n",
              "      <th>498818</th>\n",
              "      <td>584</td>\n",
              "      <td>Samsung 214 cm (85 inches) 8K Ultra HD Smart N...</td>\n",
              "      <td>tv, audio &amp; cameras</td>\n",
              "      <td>Televisions</td>\n",
              "      <td>4.0</td>\n",
              "      <td>10.0</td>\n",
              "      <td>1249990.0</td>\n",
              "      <td>1594900.0</td>\n",
              "      <td>2.302585</td>\n",
              "    </tr>\n",
              "  </tbody>\n",
              "</table>\n",
              "</div>\n",
              "    <div class=\"colab-df-buttons\">\n",
              "\n",
              "  <div class=\"colab-df-container\">\n",
              "    <button class=\"colab-df-convert\" onclick=\"convertToInteractive('df-30ccadc2-5118-4e5f-b4db-975aa36fa87e')\"\n",
              "            title=\"Convert this dataframe to an interactive table.\"\n",
              "            style=\"display:none;\">\n",
              "\n",
              "  <svg xmlns=\"http://www.w3.org/2000/svg\" height=\"24px\" viewBox=\"0 -960 960 960\">\n",
              "    <path d=\"M120-120v-720h720v720H120Zm60-500h600v-160H180v160Zm220 220h160v-160H400v160Zm0 220h160v-160H400v160ZM180-400h160v-160H180v160Zm440 0h160v-160H620v160ZM180-180h160v-160H180v160Zm440 0h160v-160H620v160Z\"/>\n",
              "  </svg>\n",
              "    </button>\n",
              "\n",
              "  <style>\n",
              "    .colab-df-container {\n",
              "      display:flex;\n",
              "      gap: 12px;\n",
              "    }\n",
              "\n",
              "    .colab-df-convert {\n",
              "      background-color: #E8F0FE;\n",
              "      border: none;\n",
              "      border-radius: 50%;\n",
              "      cursor: pointer;\n",
              "      display: none;\n",
              "      fill: #1967D2;\n",
              "      height: 32px;\n",
              "      padding: 0 0 0 0;\n",
              "      width: 32px;\n",
              "    }\n",
              "\n",
              "    .colab-df-convert:hover {\n",
              "      background-color: #E2EBFA;\n",
              "      box-shadow: 0px 1px 2px rgba(60, 64, 67, 0.3), 0px 1px 3px 1px rgba(60, 64, 67, 0.15);\n",
              "      fill: #174EA6;\n",
              "    }\n",
              "\n",
              "    .colab-df-buttons div {\n",
              "      margin-bottom: 4px;\n",
              "    }\n",
              "\n",
              "    [theme=dark] .colab-df-convert {\n",
              "      background-color: #3B4455;\n",
              "      fill: #D2E3FC;\n",
              "    }\n",
              "\n",
              "    [theme=dark] .colab-df-convert:hover {\n",
              "      background-color: #434B5C;\n",
              "      box-shadow: 0px 1px 3px 1px rgba(0, 0, 0, 0.15);\n",
              "      filter: drop-shadow(0px 1px 2px rgba(0, 0, 0, 0.3));\n",
              "      fill: #FFFFFF;\n",
              "    }\n",
              "  </style>\n",
              "\n",
              "    <script>\n",
              "      const buttonEl =\n",
              "        document.querySelector('#df-30ccadc2-5118-4e5f-b4db-975aa36fa87e button.colab-df-convert');\n",
              "      buttonEl.style.display =\n",
              "        google.colab.kernel.accessAllowed ? 'block' : 'none';\n",
              "\n",
              "      async function convertToInteractive(key) {\n",
              "        const element = document.querySelector('#df-30ccadc2-5118-4e5f-b4db-975aa36fa87e');\n",
              "        const dataTable =\n",
              "          await google.colab.kernel.invokeFunction('convertToInteractive',\n",
              "                                                    [key], {});\n",
              "        if (!dataTable) return;\n",
              "\n",
              "        const docLinkHtml = 'Like what you see? Visit the ' +\n",
              "          '<a target=\"_blank\" href=https://colab.research.google.com/notebooks/data_table.ipynb>data table notebook</a>'\n",
              "          + ' to learn more about interactive tables.';\n",
              "        element.innerHTML = '';\n",
              "        dataTable['output_type'] = 'display_data';\n",
              "        await google.colab.output.renderOutput(dataTable, element);\n",
              "        const docLink = document.createElement('div');\n",
              "        docLink.innerHTML = docLinkHtml;\n",
              "        element.appendChild(docLink);\n",
              "      }\n",
              "    </script>\n",
              "  </div>\n",
              "\n",
              "\n",
              "<div id=\"df-55c2b1b3-2e10-4cba-a718-283623f7aa94\">\n",
              "  <button class=\"colab-df-quickchart\" onclick=\"quickchart('df-55c2b1b3-2e10-4cba-a718-283623f7aa94')\"\n",
              "            title=\"Suggest charts\"\n",
              "            style=\"display:none;\">\n",
              "\n",
              "<svg xmlns=\"http://www.w3.org/2000/svg\" height=\"24px\"viewBox=\"0 0 24 24\"\n",
              "     width=\"24px\">\n",
              "    <g>\n",
              "        <path d=\"M19 3H5c-1.1 0-2 .9-2 2v14c0 1.1.9 2 2 2h14c1.1 0 2-.9 2-2V5c0-1.1-.9-2-2-2zM9 17H7v-7h2v7zm4 0h-2V7h2v10zm4 0h-2v-4h2v4z\"/>\n",
              "    </g>\n",
              "</svg>\n",
              "  </button>\n",
              "\n",
              "<style>\n",
              "  .colab-df-quickchart {\n",
              "      --bg-color: #E8F0FE;\n",
              "      --fill-color: #1967D2;\n",
              "      --hover-bg-color: #E2EBFA;\n",
              "      --hover-fill-color: #174EA6;\n",
              "      --disabled-fill-color: #AAA;\n",
              "      --disabled-bg-color: #DDD;\n",
              "  }\n",
              "\n",
              "  [theme=dark] .colab-df-quickchart {\n",
              "      --bg-color: #3B4455;\n",
              "      --fill-color: #D2E3FC;\n",
              "      --hover-bg-color: #434B5C;\n",
              "      --hover-fill-color: #FFFFFF;\n",
              "      --disabled-bg-color: #3B4455;\n",
              "      --disabled-fill-color: #666;\n",
              "  }\n",
              "\n",
              "  .colab-df-quickchart {\n",
              "    background-color: var(--bg-color);\n",
              "    border: none;\n",
              "    border-radius: 50%;\n",
              "    cursor: pointer;\n",
              "    display: none;\n",
              "    fill: var(--fill-color);\n",
              "    height: 32px;\n",
              "    padding: 0;\n",
              "    width: 32px;\n",
              "  }\n",
              "\n",
              "  .colab-df-quickchart:hover {\n",
              "    background-color: var(--hover-bg-color);\n",
              "    box-shadow: 0 1px 2px rgba(60, 64, 67, 0.3), 0 1px 3px 1px rgba(60, 64, 67, 0.15);\n",
              "    fill: var(--button-hover-fill-color);\n",
              "  }\n",
              "\n",
              "  .colab-df-quickchart-complete:disabled,\n",
              "  .colab-df-quickchart-complete:disabled:hover {\n",
              "    background-color: var(--disabled-bg-color);\n",
              "    fill: var(--disabled-fill-color);\n",
              "    box-shadow: none;\n",
              "  }\n",
              "\n",
              "  .colab-df-spinner {\n",
              "    border: 2px solid var(--fill-color);\n",
              "    border-color: transparent;\n",
              "    border-bottom-color: var(--fill-color);\n",
              "    animation:\n",
              "      spin 1s steps(1) infinite;\n",
              "  }\n",
              "\n",
              "  @keyframes spin {\n",
              "    0% {\n",
              "      border-color: transparent;\n",
              "      border-bottom-color: var(--fill-color);\n",
              "      border-left-color: var(--fill-color);\n",
              "    }\n",
              "    20% {\n",
              "      border-color: transparent;\n",
              "      border-left-color: var(--fill-color);\n",
              "      border-top-color: var(--fill-color);\n",
              "    }\n",
              "    30% {\n",
              "      border-color: transparent;\n",
              "      border-left-color: var(--fill-color);\n",
              "      border-top-color: var(--fill-color);\n",
              "      border-right-color: var(--fill-color);\n",
              "    }\n",
              "    40% {\n",
              "      border-color: transparent;\n",
              "      border-right-color: var(--fill-color);\n",
              "      border-top-color: var(--fill-color);\n",
              "    }\n",
              "    60% {\n",
              "      border-color: transparent;\n",
              "      border-right-color: var(--fill-color);\n",
              "    }\n",
              "    80% {\n",
              "      border-color: transparent;\n",
              "      border-right-color: var(--fill-color);\n",
              "      border-bottom-color: var(--fill-color);\n",
              "    }\n",
              "    90% {\n",
              "      border-color: transparent;\n",
              "      border-bottom-color: var(--fill-color);\n",
              "    }\n",
              "  }\n",
              "</style>\n",
              "\n",
              "  <script>\n",
              "    async function quickchart(key) {\n",
              "      const quickchartButtonEl =\n",
              "        document.querySelector('#' + key + ' button');\n",
              "      quickchartButtonEl.disabled = true;  // To prevent multiple clicks.\n",
              "      quickchartButtonEl.classList.add('colab-df-spinner');\n",
              "      try {\n",
              "        const charts = await google.colab.kernel.invokeFunction(\n",
              "            'suggestCharts', [key], {});\n",
              "      } catch (error) {\n",
              "        console.error('Error during call to suggestCharts:', error);\n",
              "      }\n",
              "      quickchartButtonEl.classList.remove('colab-df-spinner');\n",
              "      quickchartButtonEl.classList.add('colab-df-quickchart-complete');\n",
              "    }\n",
              "    (() => {\n",
              "      let quickchartButtonEl =\n",
              "        document.querySelector('#df-55c2b1b3-2e10-4cba-a718-283623f7aa94 button');\n",
              "      quickchartButtonEl.style.display =\n",
              "        google.colab.kernel.accessAllowed ? 'block' : 'none';\n",
              "    })();\n",
              "  </script>\n",
              "</div>\n",
              "\n",
              "    </div>\n",
              "  </div>\n"
            ],
            "application/vnd.google.colaboratory.intrinsic+json": {
              "type": "dataframe",
              "summary": "{\n  \"name\": \"df\",\n  \"rows\": 5,\n  \"fields\": [\n    {\n      \"column\": \"product_id\",\n      \"properties\": {\n        \"dtype\": \"number\",\n        \"std\": 1072,\n        \"min\": 47,\n        \"max\": 2588,\n        \"num_unique_values\": 5,\n        \"samples\": [\n          2588,\n          584,\n          122\n        ],\n        \"semantic_type\": \"\",\n        \"description\": \"\"\n      }\n    },\n    {\n      \"column\": \"name\",\n      \"properties\": {\n        \"dtype\": \"string\",\n        \"num_unique_values\": 4,\n        \"samples\": [\n          \"PC Jeweller 18k (750) Yellow Gold and Solitaire Bangle for Women\",\n          \"Samsung 214 cm (85 inches) 8K Ultra HD Smart Neo QLED TV QA85QN900AKXXL (Steel)\",\n          \"USPTO 2.85 Carat Real GIA Certifed Diamond Loose StoneBest Eye Clean VVS1 Clarity D Color Brilliant Round Cut Real Hira St...\"\n        ],\n        \"semantic_type\": \"\",\n        \"description\": \"\"\n      }\n    },\n    {\n      \"column\": \"main_category\",\n      \"properties\": {\n        \"dtype\": \"category\",\n        \"num_unique_values\": 2,\n        \"samples\": [\n          \"tv, audio & cameras\",\n          \"accessories\"\n        ],\n        \"semantic_type\": \"\",\n        \"description\": \"\"\n      }\n    },\n    {\n      \"column\": \"sub_category\",\n      \"properties\": {\n        \"dtype\": \"string\",\n        \"num_unique_values\": 4,\n        \"samples\": [\n          \"Gold & Diamond Jewellery\",\n          \"Televisions\"\n        ],\n        \"semantic_type\": \"\",\n        \"description\": \"\"\n      }\n    },\n    {\n      \"column\": \"ratings\",\n      \"properties\": {\n        \"dtype\": \"number\",\n        \"std\": 0.044721359549995836,\n        \"min\": 3.9,\n        \"max\": 4.0,\n        \"num_unique_values\": 2,\n        \"samples\": [\n          4.0,\n          3.9\n        ],\n        \"semantic_type\": \"\",\n        \"description\": \"\"\n      }\n    },\n    {\n      \"column\": \"no_of_ratings\",\n      \"properties\": {\n        \"dtype\": \"number\",\n        \"std\": 4.47213595499958,\n        \"min\": 10.0,\n        \"max\": 20.0,\n        \"num_unique_values\": 2,\n        \"samples\": [\n          10.0,\n          20.0\n        ],\n        \"semantic_type\": \"\",\n        \"description\": \"\"\n      }\n    },\n    {\n      \"column\": \"discount_price\",\n      \"properties\": {\n        \"dtype\": \"number\",\n        \"std\": 343937.41561758006,\n        \"min\": 459999.0,\n        \"max\": 1249990.0,\n        \"num_unique_values\": 4,\n        \"samples\": [\n          468012.0,\n          1249990.0\n        ],\n        \"semantic_type\": \"\",\n        \"description\": \"\"\n      }\n    },\n    {\n      \"column\": \"actual_price\",\n      \"properties\": {\n        \"dtype\": \"number\",\n        \"std\": 374635.312671937,\n        \"min\": 550602.0,\n        \"max\": 1594900.0,\n        \"num_unique_values\": 4,\n        \"samples\": [\n          550602.0,\n          1594900.0\n        ],\n        \"semantic_type\": \"\",\n        \"description\": \"\"\n      }\n    },\n    {\n      \"column\": \"log_of_no_of_ratings\",\n      \"properties\": {\n        \"dtype\": \"number\",\n        \"std\": 0.3099848428288715,\n        \"min\": 2.302585092994046,\n        \"max\": 2.995732273553991,\n        \"num_unique_values\": 2,\n        \"samples\": [\n          2.302585092994046,\n          2.995732273553991\n        ],\n        \"semantic_type\": \"\",\n        \"description\": \"\"\n      }\n    }\n  ]\n}"
            }
          },
          "metadata": {},
          "execution_count": 488
        }
      ]
    },
    {
      "cell_type": "code",
      "source": [
        "df.main_category.value_counts()"
      ],
      "metadata": {
        "colab": {
          "base_uri": "https://localhost:8080/"
        },
        "id": "mFTlpfqNPsOJ",
        "outputId": "df541ac2-7aa3-48a1-84bc-3824323889b0"
      },
      "execution_count": 28,
      "outputs": [
        {
          "output_type": "execute_result",
          "data": {
            "text/plain": [
              "main_category\n",
              "women's clothing           38208\n",
              "tv, audio & cameras        28800\n",
              "accessories                27751\n",
              "men's shoes                19056\n",
              "appliances                 10296\n",
              "sports & fitness            7008\n",
              "car & motorbike             5856\n",
              "toys & baby products        3528\n",
              "beauty & health             3120\n",
              "home & kitchen              2448\n",
              "stores                      2352\n",
              "grocery & gourmet foods     2256\n",
              "kids' fashion               2208\n",
              "bags & luggage              2064\n",
              "pet supplies                1632\n",
              "women's shoes               1392\n",
              "Name: count, dtype: int64"
            ]
          },
          "metadata": {},
          "execution_count": 28
        }
      ]
    },
    {
      "cell_type": "code",
      "source": [
        "percentage=(df.main_category.value_counts().head(5).sum())/len(df)*100\n",
        "percentage"
      ],
      "metadata": {
        "colab": {
          "base_uri": "https://localhost:8080/"
        },
        "id": "lcXhCjmyQAC3",
        "outputId": "87b528bf-9c4e-4f2c-84a4-0a9de1fb2afa"
      },
      "execution_count": 29,
      "outputs": [
        {
          "output_type": "execute_result",
          "data": {
            "text/plain": [
              "78.56319947333772"
            ]
          },
          "metadata": {},
          "execution_count": 29
        }
      ]
    },
    {
      "cell_type": "markdown",
      "source": [
        "Only top 5 main categories cover 77% of all products"
      ],
      "metadata": {
        "id": "LQMt5IOeSMjv"
      }
    },
    {
      "cell_type": "code",
      "source": [
        "df.groupby([\"main_category\"])[\"sub_category\"].value_counts()"
      ],
      "metadata": {
        "colab": {
          "base_uri": "https://localhost:8080/"
        },
        "id": "WGZ4ZKV_SX1S",
        "outputId": "0a683e35-ccba-41fe-de33-9e31f15dbc15"
      },
      "execution_count": 30,
      "outputs": [
        {
          "output_type": "execute_result",
          "data": {
            "text/plain": [
              "main_category            sub_category                  \n",
              "accessories              Bags & Luggage                    19152\n",
              "                         Fashion & Silver Jewellery         8599\n",
              "appliances               All Appliances                     9576\n",
              "                         Air Conditioners                    720\n",
              "bags & luggage           Backpacks                          2064\n",
              "beauty & health          Beauty & Grooming                  1920\n",
              "                         Diet & Nutrition                   1200\n",
              "car & motorbike          Car Accessories                    1392\n",
              "                         All Car & Motorbike Products       1272\n",
              "                         Car Parts                          1224\n",
              "                         Car Electronics                    1008\n",
              "                         Car & Bike Care                     960\n",
              "grocery & gourmet foods  Coffee, Tea & Beverages            1296\n",
              "                         All Grocery & Gourmet Foods         960\n",
              "home & kitchen           Bedroom Linen                      1224\n",
              "                         All Home & Kitchen                 1224\n",
              "kids' fashion            Baby Fashion                       2208\n",
              "men's shoes              Casual Shoes                      19056\n",
              "pet supplies             Dog supplies                        984\n",
              "                         All Pet Supplies                    648\n",
              "sports & fitness         All Sports, Fitness & Outdoors     1224\n",
              "                         Cricket                            1224\n",
              "                         Badminton                          1200\n",
              "                         All Exercise & Fitness             1176\n",
              "                         Cycling                            1152\n",
              "                         Camping & Hiking                    792\n",
              "                         Cardio Equipment                    240\n",
              "stores                   Amazon Fashion                     2352\n",
              "toys & baby products     Baby Bath, Skin & Grooming         1392\n",
              "                         Diapers                            1080\n",
              "                         Baby Products                      1056\n",
              "tv, audio & cameras      Cameras                            9600\n",
              "                         Camera Accessories                 9600\n",
              "                         All Electronics                    9600\n",
              "women's clothing         Clothing                          19152\n",
              "                         Ethnic Wear                       19056\n",
              "women's shoes            Ballerinas                         1392\n",
              "Name: count, dtype: int64"
            ]
          },
          "metadata": {},
          "execution_count": 30
        }
      ]
    },
    {
      "cell_type": "markdown",
      "source": [
        "Each main category has one to two sub categories. Interestingly sports & fitness is a special main category that has 3 sub categories."
      ],
      "metadata": {
        "id": "Z1coLP09TWgu"
      }
    },
    {
      "cell_type": "code",
      "source": [],
      "metadata": {
        "colab": {
          "base_uri": "https://localhost:8080/"
        },
        "id": "TTSY5cVSTyeu",
        "outputId": "91720a06-4b83-42ec-f77d-0cf8bdc4b46c"
      },
      "execution_count": 31,
      "outputs": [
        {
          "output_type": "execute_result",
          "data": {
            "text/plain": [
              "False    157976\n",
              "Name: count, dtype: int64"
            ]
          },
          "metadata": {},
          "execution_count": 31
        }
      ]
    },
    {
      "cell_type": "markdown",
      "source": [
        "No duplicate present in our dataset"
      ],
      "metadata": {
        "id": "Fbx-snqDUpom"
      }
    },
    {
      "cell_type": "code",
      "source": [],
      "metadata": {
        "id": "miz5r_NAUpXd"
      },
      "execution_count": 31,
      "outputs": []
    }
  ]
}